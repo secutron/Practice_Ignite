{
  "nbformat": 4,
  "nbformat_minor": 0,
  "metadata": {
    "colab": {
      "name": "2.1.1.ipynb",
      "provenance": [],
      "authorship_tag": "ABX9TyPIG2DnnG5OHxOncOn312Ve",
      "include_colab_link": true
    },
    "kernelspec": {
      "name": "python3",
      "display_name": "Python 3"
    },
    "language_info": {
      "name": "python"
    }
  },
  "cells": [
    {
      "cell_type": "markdown",
      "metadata": {
        "id": "view-in-github",
        "colab_type": "text"
      },
      "source": [
        "<a href=\"https://colab.research.google.com/github/secutron/Practice_Ignite/blob/main/2_1_1.ipynb\" target=\"_parent\"><img src=\"https://colab.research.google.com/assets/colab-badge.svg\" alt=\"Open In Colab\"/></a>"
      ]
    },
    {
      "cell_type": "code",
      "metadata": {
        "colab": {
          "base_uri": "https://localhost:8080/"
        },
        "id": "ejoYfvKluKv8",
        "outputId": "da108b4f-54f6-408e-dc6a-ac14cba34482"
      },
      "source": [
        "!pip install --pre pytorch-ignite"
      ],
      "execution_count": null,
      "outputs": [
        {
          "output_type": "stream",
          "text": [
            "Collecting pytorch-ignite\n",
            "\u001b[?25l  Downloading https://files.pythonhosted.org/packages/cd/ae/f14e732afb0d501cdb46878c4c01d48e0d2244708ff014199bbf22644b01/pytorch_ignite-0.5.0.dev20210628-py3-none-any.whl (226kB)\n",
            "\r\u001b[K     |█▌                              | 10kB 15.2MB/s eta 0:00:01\r\u001b[K     |███                             | 20kB 10.8MB/s eta 0:00:01\r\u001b[K     |████▍                           | 30kB 6.0MB/s eta 0:00:01\r\u001b[K     |█████▉                          | 40kB 5.5MB/s eta 0:00:01\r\u001b[K     |███████▎                        | 51kB 2.7MB/s eta 0:00:01\r\u001b[K     |████████▊                       | 61kB 3.1MB/s eta 0:00:01\r\u001b[K     |██████████▏                     | 71kB 3.5MB/s eta 0:00:01\r\u001b[K     |███████████▋                    | 81kB 3.7MB/s eta 0:00:01\r\u001b[K     |█████████████                   | 92kB 3.7MB/s eta 0:00:01\r\u001b[K     |██████████████▌                 | 102kB 4.0MB/s eta 0:00:01\r\u001b[K     |████████████████                | 112kB 4.0MB/s eta 0:00:01\r\u001b[K     |█████████████████▍              | 122kB 4.0MB/s eta 0:00:01\r\u001b[K     |██████████████████▉             | 133kB 4.0MB/s eta 0:00:01\r\u001b[K     |████████████████████▎           | 143kB 4.0MB/s eta 0:00:01\r\u001b[K     |█████████████████████▊          | 153kB 4.0MB/s eta 0:00:01\r\u001b[K     |███████████████████████▏        | 163kB 4.0MB/s eta 0:00:01\r\u001b[K     |████████████████████████▋       | 174kB 4.0MB/s eta 0:00:01\r\u001b[K     |██████████████████████████      | 184kB 4.0MB/s eta 0:00:01\r\u001b[K     |███████████████████████████▌    | 194kB 4.0MB/s eta 0:00:01\r\u001b[K     |█████████████████████████████   | 204kB 4.0MB/s eta 0:00:01\r\u001b[K     |██████████████████████████████▍ | 215kB 4.0MB/s eta 0:00:01\r\u001b[K     |███████████████████████████████▉| 225kB 4.0MB/s eta 0:00:01\r\u001b[K     |████████████████████████████████| 235kB 4.0MB/s \n",
            "\u001b[?25hRequirement already satisfied: torch<2,>=1.3 in /usr/local/lib/python3.7/dist-packages (from pytorch-ignite) (1.9.0+cu102)\n",
            "Requirement already satisfied: typing-extensions in /usr/local/lib/python3.7/dist-packages (from torch<2,>=1.3->pytorch-ignite) (3.7.4.3)\n",
            "Installing collected packages: pytorch-ignite\n",
            "Successfully installed pytorch-ignite-0.5.0.dev20210628\n"
          ],
          "name": "stdout"
        }
      ]
    },
    {
      "cell_type": "code",
      "metadata": {
        "colab": {
          "base_uri": "https://localhost:8080/"
        },
        "id": "MGYafGpM0CE5",
        "outputId": "5e955adc-6fd9-46f0-ef1c-357dd1ca1d02"
      },
      "source": [
        "import ignite.distributed as idist\n",
        "\n",
        "from functools import wraps\n",
        "import time\n",
        "import random\n",
        "\n",
        "def fn_timer(function):\n",
        "    @wraps(function)\n",
        "    def function_timer(*args, **kwargs):\n",
        "        t0 = time.time()\n",
        "        result = function(*args, **kwargs)\n",
        "        t1 = time.time()\n",
        "        print (idist.get_rank(), \" : Total time running %s: %s seconds\" \n",
        "               % (function.__name__, str(t1-t0)))\n",
        "        return result\n",
        "    return function_timer\n",
        "\n",
        "@fn_timer\n",
        "def random_sort(n):\n",
        "    return sorted([random.random() for i in range(n)])\n",
        "\n",
        "def training(local_rank, config, **kwargs):\n",
        "    print(idist.get_rank(), ': run with config:', config, '- backend=', idist.backend())\n",
        "    random_sort(2500000)\n",
        "\n",
        "backend = 'gloo' # or \"xla-tpu\" or None\n",
        "dist_configs = {'nproc_per_node': 1, \"start_method\": \"fork\"}  # or dist_configs = {...}\n",
        "config = {'c': 12345}\n",
        "\n",
        "with idist.Parallel(backend=backend, **dist_configs) as parallel:\n",
        "    parallel.run(training, config, a=1, b=2)"
      ],
      "execution_count": null,
      "outputs": [
        {
          "output_type": "stream",
          "text": [
            "2021-06-28 09:34:51,383 ignite.distributed.launcher.Parallel INFO: Initialized distributed launcher with backend: 'gloo'\n",
            "2021-06-28 09:34:51,385 ignite.distributed.launcher.Parallel INFO: - Parameters to spawn processes: \n",
            "\tnproc_per_node: 1\n",
            "\tnnodes: 1\n",
            "\tnode_rank: 0\n",
            "\tstart_method: fork\n",
            "2021-06-28 09:34:51,386 ignite.distributed.launcher.Parallel INFO: Spawn function '<function training at 0x7fb2e079db00>' in 1 processes\n"
          ],
          "name": "stderr"
        },
        {
          "output_type": "stream",
          "text": [
            "0 : run with config: {'c': 12345} - backend= gloo\n",
            "0  : Total time running random_sort: 1.4314861297607422 seconds\n"
          ],
          "name": "stdout"
        },
        {
          "output_type": "stream",
          "text": [
            "2021-06-28 09:34:53,134 ignite.distributed.launcher.Parallel INFO: End of run\n"
          ],
          "name": "stderr"
        }
      ]
    },
    {
      "cell_type": "code",
      "metadata": {
        "id": "tYjZkajX0XSE",
        "colab": {
          "base_uri": "https://localhost:8080/"
        },
        "outputId": "e0d68ecf-5bb4-46d2-c6f6-9d5f9c30e62a"
      },
      "source": [
        "dist_configs['nproc_per_node'] = 2\n",
        "\n",
        "with idist.Parallel(backend=backend, **dist_configs) as parallel:\n",
        "    parallel.run(training, config, a=1, b=2)"
      ],
      "execution_count": null,
      "outputs": [
        {
          "output_type": "stream",
          "text": [
            "2021-06-28 09:34:53,152 ignite.distributed.launcher.Parallel INFO: Initialized distributed launcher with backend: 'gloo'\n",
            "2021-06-28 09:34:53,154 ignite.distributed.launcher.Parallel INFO: - Parameters to spawn processes: \n",
            "\tnproc_per_node: 2\n",
            "\tnnodes: 1\n",
            "\tnode_rank: 0\n",
            "\tstart_method: fork\n",
            "2021-06-28 09:34:53,156 ignite.distributed.launcher.Parallel INFO: Spawn function '<function training at 0x7fb2e079db00>' in 2 processes\n"
          ],
          "name": "stderr"
        },
        {
          "output_type": "stream",
          "text": [
            "0 : run with config: {'c': 12345} - backend= gloo\n",
            "1 : run with config: {'c': 12345} - backend= gloo\n",
            "1  : Total time running random_sort: 2.368380308151245 seconds\n",
            "0  : Total time running random_sort: 2.4123685359954834 seconds\n"
          ],
          "name": "stdout"
        },
        {
          "output_type": "stream",
          "text": [
            "2021-06-28 09:34:55,941 ignite.distributed.launcher.Parallel INFO: End of run\n"
          ],
          "name": "stderr"
        }
      ]
    },
    {
      "cell_type": "code",
      "metadata": {
        "id": "UknW9_J69YMW",
        "colab": {
          "base_uri": "https://localhost:8080/"
        },
        "outputId": "34d46ff3-7b0f-4b55-fc6f-9694a2783087"
      },
      "source": [
        "dist_configs['nproc_per_node'] = 8\n",
        "\n",
        "with idist.Parallel(backend=backend, **dist_configs) as parallel:\n",
        "    parallel.run(training, config, a=1, b=2)"
      ],
      "execution_count": null,
      "outputs": [
        {
          "output_type": "stream",
          "text": [
            "2021-06-28 09:34:55,957 ignite.distributed.launcher.Parallel INFO: Initialized distributed launcher with backend: 'gloo'\n",
            "2021-06-28 09:34:55,963 ignite.distributed.launcher.Parallel INFO: - Parameters to spawn processes: \n",
            "\tnproc_per_node: 8\n",
            "\tnnodes: 1\n",
            "\tnode_rank: 0\n",
            "\tstart_method: fork\n",
            "2021-06-28 09:34:55,973 ignite.distributed.launcher.Parallel INFO: Spawn function '<function training at 0x7fb2e079db00>' in 8 processes\n"
          ],
          "name": "stderr"
        },
        {
          "output_type": "stream",
          "text": [
            "3 : run with config: {'c': 12345} - backend= gloo\n",
            "2 : run with config: {'c': 12345} - backend= gloo\n",
            "5 : run with config: {'c': 12345} - backend= gloo\n",
            "4 : run with config: {'c': 12345} - backend= gloo\n",
            "7 : run with config: {'c': 12345} - backend= gloo\n",
            "1 : run with config: {'c': 12345} - backend= gloo\n",
            "0 : run with config: {'c': 12345} - backend= gloo\n",
            "6 : run with config: {'c': 12345} - backend= gloo\n",
            "1  : Total time running random_sort: 10.030449867248535 seconds\n",
            "7  : Total time running random_sort: 10.167544603347778 seconds\n",
            "0  : Total time running random_sort: 10.17899227142334 seconds\n",
            "4  : Total time running random_sort: 10.21057939529419 seconds\n",
            "3  : Total time running random_sort: 10.241017818450928 seconds\n",
            "5  : Total time running random_sort: 10.342675685882568 seconds\n",
            "2  : Total time running random_sort: 10.453433752059937 seconds\n",
            "6  : Total time running random_sort: 10.57030439376831 seconds\n"
          ],
          "name": "stdout"
        },
        {
          "output_type": "stream",
          "text": [
            "2021-06-28 09:35:08,860 ignite.distributed.launcher.Parallel INFO: End of run\n"
          ],
          "name": "stderr"
        }
      ]
    },
    {
      "cell_type": "code",
      "metadata": {
        "colab": {
          "base_uri": "https://localhost:8080/"
        },
        "id": "cQ1T5pft0mtM",
        "outputId": "1244fe21-2cfd-47c9-d98b-1707d99bb10a"
      },
      "source": [
        "dist_configs['nproc_per_node'] = 50\n",
        "\n",
        "with idist.Parallel(backend=backend, **dist_configs) as parallel:\n",
        "    parallel.run(training, config, a=1, b=2)"
      ],
      "execution_count": null,
      "outputs": [
        {
          "output_type": "stream",
          "text": [
            "2021-06-28 09:35:08,874 ignite.distributed.launcher.Parallel INFO: Initialized distributed launcher with backend: 'gloo'\n",
            "2021-06-28 09:35:08,886 ignite.distributed.launcher.Parallel INFO: - Parameters to spawn processes: \n",
            "\tnproc_per_node: 50\n",
            "\tnnodes: 1\n",
            "\tnode_rank: 0\n",
            "\tstart_method: fork\n",
            "2021-06-28 09:35:08,889 ignite.distributed.launcher.Parallel INFO: Spawn function '<function training at 0x7fb2e079db00>' in 50 processes\n"
          ],
          "name": "stderr"
        },
        {
          "output_type": "stream",
          "text": [
            "42 : run with config: {'c': 12345} - backend= gloo\n",
            "36 : run with config: {'c': 12345} - backend= gloo\n",
            "34 : run with config: {'c': 12345} - backend= gloo\n",
            "37 : run with config: {'c': 12345} - backend= gloo\n",
            "32 : run with config: {'c': 12345} - backend= gloo\n",
            "18 : run with config: {'c': 12345} - backend= gloo\n",
            "15 : run with config: {'c': 12345} - backend= gloo\n",
            "33 : run with config: {'c': 12345} - backend= gloo\n",
            "24 : run with config: {'c': 12345} - backend= gloo\n",
            "31 : run with config: {'c': 12345} - backend= gloo\n",
            "38 : run with config: {'c': 12345} - backend= gloo\n",
            "23 : run with config: {'c': 12345} - backend= gloo\n",
            "41 : run with config: {'c': 12345} - backend= gloo\n",
            "25 : run with config: {'c': 12345} - backend= gloo\n",
            "20 : run with config: {'c': 12345} - backend= gloo\n",
            "44 : run with config: {'c': 12345} - backend= gloo\n",
            "27 : run with config: {'c': 12345} - backend= gloo\n",
            "21 : run with config: {'c': 12345} - backend= gloo\n",
            "22 : run with config: {'c': 12345} - backend= gloo\n",
            "28 : run with config: {'c': 12345} - backend= gloo\n",
            "40 : run with config: {'c': 12345} - backend= gloo\n",
            "30 : run with config: {'c': 12345} - backend= gloo\n",
            "9 : run with config: {'c': 12345} - backend= gloo\n",
            "2 : run with config: {'c': 12345} - backend= gloo\n",
            "26 : run with config: {'c': 12345} - backend= gloo\n",
            "39 : run with config: {'c': 12345} - backend= gloo\n",
            "29 : run with config: {'c': 12345} - backend= gloo\n",
            "48 : run with config: {'c': 12345} - backend= gloo\n",
            "35 : run with config: {'c': 12345} - backend= gloo\n",
            "43 : run with config: {'c': 12345} - backend= gloo\n",
            "14 : run with config: {'c': 12345} - backend= gloo\n",
            "19 : run with config: {'c': 12345} - backend= gloo\n",
            "3 : run with config: {'c': 12345} - backend= gloo\n",
            "46 : run with config: {'c': 12345} - backend= gloo\n",
            "49 : run with config: {'c': 12345} - backend= gloo\n",
            "17 : run with config: {'c': 12345} - backend= gloo\n",
            "12 : run with config: {'c': 12345} - backend= gloo\n",
            "45 : run with config: {'c': 12345} - backend= gloo\n",
            "47 : run with config: {'c': 12345} - backend= gloo\n",
            "0 : run with config: {'c': 12345} - backend= gloo\n",
            "1 : run with config: {'c': 12345} - backend= gloo\n",
            "10 : run with config: {'c': 12345} - backend= gloo\n",
            "13 : run with config: {'c': 12345} - backend= gloo\n",
            "11 : run with config: {'c': 12345} - backend= gloo\n",
            "16 : run with config: {'c': 12345} - backend= gloo\n",
            "5 : run with config: {'c': 12345} - backend= gloo\n",
            "6 : run with config: {'c': 12345} - backend= gloo\n",
            "4 : run with config: {'c': 12345} - backend= gloo\n",
            "8 : run with config: {'c': 12345} - backend= gloo\n",
            "7 : run with config: {'c': 12345} - backend= gloo\n",
            "41  : Total time running random_sort: 64.33436441421509 seconds\n",
            "37  : Total time running random_sort: 64.7222809791565 seconds\n",
            "45  : Total time running random_sort: 64.71990895271301 seconds\n",
            "15  : Total time running random_sort: 64.92481064796448 seconds\n",
            "7  : Total time running random_sort: 64.78663611412048 seconds\n",
            "25  : Total time running random_sort: 65.07219743728638 seconds\n",
            "21  : Total time running random_sort: 65.1572163105011 seconds\n",
            "34  : Total time running random_sort: 65.21848964691162 seconds\n",
            "4  : Total time running random_sort: 65.00434446334839 seconds\n",
            "48  : Total time running random_sort: 65.27094793319702 seconds\n",
            "28  : Total time running random_sort: 65.32453632354736 seconds\n",
            "26  : Total time running random_sort: 65.30035090446472 seconds\n",
            "40  : Total time running random_sort: 65.32968139648438 seconds\n",
            "36  : Total time running random_sort: 65.36366844177246 seconds\n",
            "24  : Total time running random_sort: 65.3502926826477 seconds\n",
            "6  : Total time running random_sort: 65.17905116081238 seconds\n",
            "43  : Total time running random_sort: 65.55514287948608 seconds\n",
            "46  : Total time running random_sort: 65.47486281394958 seconds\n",
            "27  : Total time running random_sort: 65.60959529876709 seconds\n",
            "33  : Total time running random_sort: 65.61063241958618 seconds\n",
            "9  : Total time running random_sort: 65.36535406112671 seconds\n",
            "1  : Total time running random_sort: 65.4566400051117 seconds\n",
            "35  : Total time running random_sort: 65.57419109344482 seconds\n",
            "32  : Total time running random_sort: 65.81053566932678 seconds\n",
            "2  : Total time running random_sort: 65.7938802242279 seconds\n",
            "17  : Total time running random_sort: 65.766033411026 seconds\n",
            "10  : Total time running random_sort: 65.65093636512756 seconds\n",
            "16  : Total time running random_sort: 65.6157615184784 seconds\n",
            "13  : Total time running random_sort: 65.6959981918335 seconds\n",
            "3  : Total time running random_sort: 65.885986328125 seconds\n",
            "38  : Total time running random_sort: 66.00599980354309 seconds\n",
            "0  : Total time running random_sort: 65.77286028862 seconds\n",
            "19  : Total time running random_sort: 65.9303469657898 seconds\n",
            "31  : Total time running random_sort: 66.01006531715393 seconds\n",
            "47  : Total time running random_sort: 65.83582544326782 seconds\n",
            "5  : Total time running random_sort: 65.79355502128601 seconds\n",
            "18  : Total time running random_sort: 66.02154779434204 seconds\n",
            "30  : Total time running random_sort: 65.97219014167786 seconds\n",
            "44  : Total time running random_sort: 66.08739948272705 seconds\n",
            "42  : Total time running random_sort: 66.12819719314575 seconds\n",
            "20  : Total time running random_sort: 66.1553566455841 seconds\n",
            "14  : Total time running random_sort: 66.18195486068726 seconds\n",
            "12  : Total time running random_sort: 66.12871289253235 seconds\n",
            "39  : Total time running random_sort: 66.30748891830444 seconds\n",
            "22  : Total time running random_sort: 66.27281928062439 seconds\n",
            "8  : Total time running random_sort: 66.01991248130798 seconds\n",
            "23  : Total time running random_sort: 66.38294100761414 seconds\n",
            "29  : Total time running random_sort: 66.40745520591736 seconds\n",
            "11  : Total time running random_sort: 66.26861715316772 seconds\n",
            "49  : Total time running random_sort: 66.60967230796814 seconds\n"
          ],
          "name": "stdout"
        },
        {
          "output_type": "stream",
          "text": [
            "2021-06-28 09:36:24,578 ignite.distributed.launcher.Parallel INFO: End of run\n"
          ],
          "name": "stderr"
        }
      ]
    },
    {
      "cell_type": "code",
      "metadata": {
        "id": "k7d5F7ak0paZ",
        "colab": {
          "base_uri": "https://localhost:8080/"
        },
        "outputId": "2af7c511-cc82-4773-af68-1681719c3d03"
      },
      "source": [
        "!cat /proc/cpuinfo"
      ],
      "execution_count": null,
      "outputs": [
        {
          "output_type": "stream",
          "text": [
            "processor\t: 0\n",
            "vendor_id\t: GenuineIntel\n",
            "cpu family\t: 6\n",
            "model\t\t: 63\n",
            "model name\t: Intel(R) Xeon(R) CPU @ 2.30GHz\n",
            "stepping\t: 0\n",
            "microcode\t: 0x1\n",
            "cpu MHz\t\t: 2299.998\n",
            "cache size\t: 46080 KB\n",
            "physical id\t: 0\n",
            "siblings\t: 2\n",
            "core id\t\t: 0\n",
            "cpu cores\t: 1\n",
            "apicid\t\t: 0\n",
            "initial apicid\t: 0\n",
            "fpu\t\t: yes\n",
            "fpu_exception\t: yes\n",
            "cpuid level\t: 13\n",
            "wp\t\t: yes\n",
            "flags\t\t: fpu vme de pse tsc msr pae mce cx8 apic sep mtrr pge mca cmov pat pse36 clflush mmx fxsr sse sse2 ss ht syscall nx pdpe1gb rdtscp lm constant_tsc rep_good nopl xtopology nonstop_tsc cpuid tsc_known_freq pni pclmulqdq ssse3 fma cx16 pcid sse4_1 sse4_2 x2apic movbe popcnt aes xsave avx f16c rdrand hypervisor lahf_lm abm invpcid_single ssbd ibrs ibpb stibp fsgsbase tsc_adjust bmi1 avx2 smep bmi2 erms invpcid xsaveopt arat md_clear arch_capabilities\n",
            "bugs\t\t: cpu_meltdown spectre_v1 spectre_v2 spec_store_bypass l1tf mds swapgs\n",
            "bogomips\t: 4599.99\n",
            "clflush size\t: 64\n",
            "cache_alignment\t: 64\n",
            "address sizes\t: 46 bits physical, 48 bits virtual\n",
            "power management:\n",
            "\n",
            "processor\t: 1\n",
            "vendor_id\t: GenuineIntel\n",
            "cpu family\t: 6\n",
            "model\t\t: 63\n",
            "model name\t: Intel(R) Xeon(R) CPU @ 2.30GHz\n",
            "stepping\t: 0\n",
            "microcode\t: 0x1\n",
            "cpu MHz\t\t: 2299.998\n",
            "cache size\t: 46080 KB\n",
            "physical id\t: 0\n",
            "siblings\t: 2\n",
            "core id\t\t: 0\n",
            "cpu cores\t: 1\n",
            "apicid\t\t: 1\n",
            "initial apicid\t: 1\n",
            "fpu\t\t: yes\n",
            "fpu_exception\t: yes\n",
            "cpuid level\t: 13\n",
            "wp\t\t: yes\n",
            "flags\t\t: fpu vme de pse tsc msr pae mce cx8 apic sep mtrr pge mca cmov pat pse36 clflush mmx fxsr sse sse2 ss ht syscall nx pdpe1gb rdtscp lm constant_tsc rep_good nopl xtopology nonstop_tsc cpuid tsc_known_freq pni pclmulqdq ssse3 fma cx16 pcid sse4_1 sse4_2 x2apic movbe popcnt aes xsave avx f16c rdrand hypervisor lahf_lm abm invpcid_single ssbd ibrs ibpb stibp fsgsbase tsc_adjust bmi1 avx2 smep bmi2 erms invpcid xsaveopt arat md_clear arch_capabilities\n",
            "bugs\t\t: cpu_meltdown spectre_v1 spectre_v2 spec_store_bypass l1tf mds swapgs\n",
            "bogomips\t: 4599.99\n",
            "clflush size\t: 64\n",
            "cache_alignment\t: 64\n",
            "address sizes\t: 46 bits physical, 48 bits virtual\n",
            "power management:\n",
            "\n"
          ],
          "name": "stdout"
        }
      ]
    },
    {
      "cell_type": "code",
      "metadata": {
        "id": "ORIklAPc0_Fn"
      },
      "source": [
        ""
      ],
      "execution_count": null,
      "outputs": []
    }
  ]
}