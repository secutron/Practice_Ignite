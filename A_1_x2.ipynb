{
  "nbformat": 4,
  "nbformat_minor": 0,
  "metadata": {
    "colab": {
      "name": "A.1.x2.ipynb",
      "provenance": [],
      "toc_visible": true,
      "authorship_tag": "ABX9TyOWf+UmJQpRWrItMl8ACU1v",
      "include_colab_link": true
    },
    "kernelspec": {
      "name": "python3",
      "display_name": "Python 3"
    },
    "language_info": {
      "name": "python"
    },
    "accelerator": "TPU",
    "widgets": {
      "application/vnd.jupyter.widget-state+json": {
        "1bcd274ec8204cb8b7712e5e9626b7cb": {
          "model_module": "@jupyter-widgets/controls",
          "model_name": "HBoxModel",
          "model_module_version": "1.5.0",
          "state": {
            "_view_name": "HBoxView",
            "_dom_classes": [],
            "_model_name": "HBoxModel",
            "_view_module": "@jupyter-widgets/controls",
            "_model_module_version": "1.5.0",
            "_view_count": null,
            "_view_module_version": "1.5.0",
            "box_style": "",
            "layout": "IPY_MODEL_da59f12ff3eb4e3c84242f973062d18d",
            "_model_module": "@jupyter-widgets/controls",
            "children": [
              "IPY_MODEL_c76e55ebe4fa43a8add1893d89671d3a",
              "IPY_MODEL_0cd61aa4b6584cdd84eefa692f3ef57a",
              "IPY_MODEL_399561d3d2a44527ad3ef81587c9386f"
            ]
          }
        },
        "da59f12ff3eb4e3c84242f973062d18d": {
          "model_module": "@jupyter-widgets/base",
          "model_name": "LayoutModel",
          "model_module_version": "1.2.0",
          "state": {
            "_view_name": "LayoutView",
            "grid_template_rows": null,
            "right": null,
            "justify_content": null,
            "_view_module": "@jupyter-widgets/base",
            "overflow": null,
            "_model_module_version": "1.2.0",
            "_view_count": null,
            "flex_flow": null,
            "width": null,
            "min_width": null,
            "border": null,
            "align_items": null,
            "bottom": null,
            "_model_module": "@jupyter-widgets/base",
            "top": null,
            "grid_column": null,
            "overflow_y": null,
            "overflow_x": null,
            "grid_auto_flow": null,
            "grid_area": null,
            "grid_template_columns": null,
            "flex": null,
            "_model_name": "LayoutModel",
            "justify_items": null,
            "grid_row": null,
            "max_height": null,
            "align_content": null,
            "visibility": null,
            "align_self": null,
            "height": null,
            "min_height": null,
            "padding": null,
            "grid_auto_rows": null,
            "grid_gap": null,
            "max_width": null,
            "order": null,
            "_view_module_version": "1.2.0",
            "grid_template_areas": null,
            "object_position": null,
            "object_fit": null,
            "grid_auto_columns": null,
            "margin": null,
            "display": null,
            "left": null
          }
        },
        "c76e55ebe4fa43a8add1893d89671d3a": {
          "model_module": "@jupyter-widgets/controls",
          "model_name": "HTMLModel",
          "model_module_version": "1.5.0",
          "state": {
            "_view_name": "HTMLView",
            "style": "IPY_MODEL_fb936d25e605408081eca9528e1a6f8e",
            "_dom_classes": [],
            "description": "",
            "_model_name": "HTMLModel",
            "placeholder": "​",
            "_view_module": "@jupyter-widgets/controls",
            "_model_module_version": "1.5.0",
            "value": "",
            "_view_count": null,
            "_view_module_version": "1.5.0",
            "description_tooltip": null,
            "_model_module": "@jupyter-widgets/controls",
            "layout": "IPY_MODEL_5a6c7aea5b6e493fabe585b7e3c5b77e"
          }
        },
        "0cd61aa4b6584cdd84eefa692f3ef57a": {
          "model_module": "@jupyter-widgets/controls",
          "model_name": "FloatProgressModel",
          "model_module_version": "1.5.0",
          "state": {
            "_view_name": "ProgressView",
            "style": "IPY_MODEL_a8d82e161a9e41e79e3dd753b2e67092",
            "_dom_classes": [],
            "description": "",
            "_model_name": "FloatProgressModel",
            "bar_style": "success",
            "max": 170498071,
            "_view_module": "@jupyter-widgets/controls",
            "_model_module_version": "1.5.0",
            "value": 170498071,
            "_view_count": null,
            "_view_module_version": "1.5.0",
            "orientation": "horizontal",
            "min": 0,
            "description_tooltip": null,
            "_model_module": "@jupyter-widgets/controls",
            "layout": "IPY_MODEL_9bc3b1cb9e374e69949d936c0475efb3"
          }
        },
        "399561d3d2a44527ad3ef81587c9386f": {
          "model_module": "@jupyter-widgets/controls",
          "model_name": "HTMLModel",
          "model_module_version": "1.5.0",
          "state": {
            "_view_name": "HTMLView",
            "style": "IPY_MODEL_cb6512b9c2d84193b0f8d5e315257f70",
            "_dom_classes": [],
            "description": "",
            "_model_name": "HTMLModel",
            "placeholder": "​",
            "_view_module": "@jupyter-widgets/controls",
            "_model_module_version": "1.5.0",
            "value": " 170499072/? [00:02&lt;00:00, 68585275.90it/s]",
            "_view_count": null,
            "_view_module_version": "1.5.0",
            "description_tooltip": null,
            "_model_module": "@jupyter-widgets/controls",
            "layout": "IPY_MODEL_98f040b4eb9447b6898c2b018f217b27"
          }
        },
        "fb936d25e605408081eca9528e1a6f8e": {
          "model_module": "@jupyter-widgets/controls",
          "model_name": "DescriptionStyleModel",
          "model_module_version": "1.5.0",
          "state": {
            "_view_name": "StyleView",
            "_model_name": "DescriptionStyleModel",
            "description_width": "",
            "_view_module": "@jupyter-widgets/base",
            "_model_module_version": "1.5.0",
            "_view_count": null,
            "_view_module_version": "1.2.0",
            "_model_module": "@jupyter-widgets/controls"
          }
        },
        "5a6c7aea5b6e493fabe585b7e3c5b77e": {
          "model_module": "@jupyter-widgets/base",
          "model_name": "LayoutModel",
          "model_module_version": "1.2.0",
          "state": {
            "_view_name": "LayoutView",
            "grid_template_rows": null,
            "right": null,
            "justify_content": null,
            "_view_module": "@jupyter-widgets/base",
            "overflow": null,
            "_model_module_version": "1.2.0",
            "_view_count": null,
            "flex_flow": null,
            "width": null,
            "min_width": null,
            "border": null,
            "align_items": null,
            "bottom": null,
            "_model_module": "@jupyter-widgets/base",
            "top": null,
            "grid_column": null,
            "overflow_y": null,
            "overflow_x": null,
            "grid_auto_flow": null,
            "grid_area": null,
            "grid_template_columns": null,
            "flex": null,
            "_model_name": "LayoutModel",
            "justify_items": null,
            "grid_row": null,
            "max_height": null,
            "align_content": null,
            "visibility": null,
            "align_self": null,
            "height": null,
            "min_height": null,
            "padding": null,
            "grid_auto_rows": null,
            "grid_gap": null,
            "max_width": null,
            "order": null,
            "_view_module_version": "1.2.0",
            "grid_template_areas": null,
            "object_position": null,
            "object_fit": null,
            "grid_auto_columns": null,
            "margin": null,
            "display": null,
            "left": null
          }
        },
        "a8d82e161a9e41e79e3dd753b2e67092": {
          "model_module": "@jupyter-widgets/controls",
          "model_name": "ProgressStyleModel",
          "model_module_version": "1.5.0",
          "state": {
            "_view_name": "StyleView",
            "_model_name": "ProgressStyleModel",
            "description_width": "",
            "_view_module": "@jupyter-widgets/base",
            "_model_module_version": "1.5.0",
            "_view_count": null,
            "_view_module_version": "1.2.0",
            "bar_color": null,
            "_model_module": "@jupyter-widgets/controls"
          }
        },
        "9bc3b1cb9e374e69949d936c0475efb3": {
          "model_module": "@jupyter-widgets/base",
          "model_name": "LayoutModel",
          "model_module_version": "1.2.0",
          "state": {
            "_view_name": "LayoutView",
            "grid_template_rows": null,
            "right": null,
            "justify_content": null,
            "_view_module": "@jupyter-widgets/base",
            "overflow": null,
            "_model_module_version": "1.2.0",
            "_view_count": null,
            "flex_flow": null,
            "width": null,
            "min_width": null,
            "border": null,
            "align_items": null,
            "bottom": null,
            "_model_module": "@jupyter-widgets/base",
            "top": null,
            "grid_column": null,
            "overflow_y": null,
            "overflow_x": null,
            "grid_auto_flow": null,
            "grid_area": null,
            "grid_template_columns": null,
            "flex": null,
            "_model_name": "LayoutModel",
            "justify_items": null,
            "grid_row": null,
            "max_height": null,
            "align_content": null,
            "visibility": null,
            "align_self": null,
            "height": null,
            "min_height": null,
            "padding": null,
            "grid_auto_rows": null,
            "grid_gap": null,
            "max_width": null,
            "order": null,
            "_view_module_version": "1.2.0",
            "grid_template_areas": null,
            "object_position": null,
            "object_fit": null,
            "grid_auto_columns": null,
            "margin": null,
            "display": null,
            "left": null
          }
        },
        "cb6512b9c2d84193b0f8d5e315257f70": {
          "model_module": "@jupyter-widgets/controls",
          "model_name": "DescriptionStyleModel",
          "model_module_version": "1.5.0",
          "state": {
            "_view_name": "StyleView",
            "_model_name": "DescriptionStyleModel",
            "description_width": "",
            "_view_module": "@jupyter-widgets/base",
            "_model_module_version": "1.5.0",
            "_view_count": null,
            "_view_module_version": "1.2.0",
            "_model_module": "@jupyter-widgets/controls"
          }
        },
        "98f040b4eb9447b6898c2b018f217b27": {
          "model_module": "@jupyter-widgets/base",
          "model_name": "LayoutModel",
          "model_module_version": "1.2.0",
          "state": {
            "_view_name": "LayoutView",
            "grid_template_rows": null,
            "right": null,
            "justify_content": null,
            "_view_module": "@jupyter-widgets/base",
            "overflow": null,
            "_model_module_version": "1.2.0",
            "_view_count": null,
            "flex_flow": null,
            "width": null,
            "min_width": null,
            "border": null,
            "align_items": null,
            "bottom": null,
            "_model_module": "@jupyter-widgets/base",
            "top": null,
            "grid_column": null,
            "overflow_y": null,
            "overflow_x": null,
            "grid_auto_flow": null,
            "grid_area": null,
            "grid_template_columns": null,
            "flex": null,
            "_model_name": "LayoutModel",
            "justify_items": null,
            "grid_row": null,
            "max_height": null,
            "align_content": null,
            "visibility": null,
            "align_self": null,
            "height": null,
            "min_height": null,
            "padding": null,
            "grid_auto_rows": null,
            "grid_gap": null,
            "max_width": null,
            "order": null,
            "_view_module_version": "1.2.0",
            "grid_template_areas": null,
            "object_position": null,
            "object_fit": null,
            "grid_auto_columns": null,
            "margin": null,
            "display": null,
            "left": null
          }
        }
      }
    }
  },
  "cells": [
    {
      "cell_type": "markdown",
      "metadata": {
        "id": "view-in-github",
        "colab_type": "text"
      },
      "source": [
        "<a href=\"https://colab.research.google.com/github/secutron/Practice_Ignite/blob/main/A_1_x2.ipynb\" target=\"_parent\"><img src=\"https://colab.research.google.com/assets/colab-badge.svg\" alt=\"Open In Colab\"/></a>"
      ]
    },
    {
      "cell_type": "markdown",
      "metadata": {
        "id": "qohwqSkG_ych"
      },
      "source": [
        "A.1.5. 기타 기능 추가 확인\n",
        "\n",
        " 본 절에서는 기존 코드를 좀 더 수정하여, 아래와 같이 confusion matrix와 손실값 추세 그래프 및 샘플 예측 결과 확인 등을 수행할 수 있도록 새로운 코드를 작성하였다. 기존 파이토치 사용자의 경우 이그나이트 기본 흐름을 유지한 상태에서, 자유로운 응용이 가능함을 확인할 수 있다.\n",
        " \n",
        "<div align=\"center\">\n",
        "<img width=450 src=\"https://i.imgur.com/3ZpcPiS.png\"/>\n",
        "</div>\n",
        "\n",
        "<div align=\"center\">\n",
        "<img width=250 src=\"https://i.imgur.com/w2t8Fd1.png\"/>\n",
        "</div>\n",
        "\n",
        "<div align=\"center\">\n",
        "<img width=800 src=\"https://i.imgur.com/OW9DVPd.png\"/>\n",
        "</div>\n",
        "\n"
      ]
    },
    {
      "cell_type": "code",
      "metadata": {
        "id": "HdhoeHGgsimM",
        "colab": {
          "base_uri": "https://localhost:8080/"
        },
        "outputId": "d70a2586-da5f-4af2-f4c1-45ee5c1205fc"
      },
      "source": [
        "import os\n",
        "\n",
        "gpu_gtg = False\n",
        "if int(os.environ.get(\"COLAB_GPU\")) > 0:\n",
        "    gpu_gtg = \"COLAB_GPU\" in os.environ\n",
        "\n",
        "tpu_gtg = \"COLAB_TPU_ADDR\" in os.environ\n",
        "\n",
        "if tpu_gtg: # tpu\n",
        "    print(\"TPU\")\n",
        "    #VERSION = \"nightly\"\n",
        "\n",
        "    # https://github.com/pytorch/builder/pull/750\n",
        "    VERSION = \"20210304\" # was 20200607\" \n",
        "\n",
        "    !curl https://raw.githubusercontent.com/pytorch/xla/master/contrib/scripts/env-setup.py -o pytorch-xla-env-setup.py\n",
        "    !python pytorch-xla-env-setup.py --version $VERSION"
      ],
      "execution_count": 1,
      "outputs": [
        {
          "output_type": "stream",
          "name": "stdout",
          "text": [
            "TPU\n",
            "  % Total    % Received % Xferd  Average Speed   Time    Time     Time  Current\n",
            "                                 Dload  Upload   Total   Spent    Left  Speed\n",
            "100  5116  100  5116    0     0  34802      0 --:--:-- --:--:-- --:--:-- 34802\n",
            "Updating... This may take around 2 minutes.\n",
            "Updating TPU runtime to pytorch-dev20210304 ...\n",
            "Found existing installation: torch 1.9.0+cu102\n",
            "Collecting cloud-tpu-client\n",
            "  Downloading cloud_tpu_client-0.10-py3-none-any.whl (7.4 kB)\n",
            "Requirement already satisfied: oauth2client in /usr/local/lib/python3.7/dist-packages (from cloud-tpu-client) (4.1.3)\n",
            "Collecting google-api-python-client==1.8.0\n",
            "  Downloading google_api_python_client-1.8.0-py3-none-any.whl (57 kB)\n",
            "\u001b[K     |████████████████████████████████| 57 kB 2.8 MB/s \n",
            "\u001b[?25hRequirement already satisfied: google-api-core<2dev,>=1.13.0 in /usr/local/lib/python3.7/dist-packages (from google-api-python-client==1.8.0->cloud-tpu-client) (1.26.3)\n",
            "Requirement already satisfied: six<2dev,>=1.6.1 in /usr/local/lib/python3.7/dist-packages (from google-api-python-client==1.8.0->cloud-tpu-client) (1.15.0)\n",
            "Requirement already satisfied: google-auth>=1.4.1 in /usr/local/lib/python3.7/dist-packages (from google-api-python-client==1.8.0->cloud-tpu-client) (1.34.0)\n",
            "Requirement already satisfied: httplib2<1dev,>=0.9.2 in /usr/local/lib/python3.7/dist-packages (from google-api-python-client==1.8.0->cloud-tpu-client) (0.17.4)\n",
            "Requirement already satisfied: google-auth-httplib2>=0.0.3 in /usr/local/lib/python3.7/dist-packages (from google-api-python-client==1.8.0->cloud-tpu-client) (0.0.4)\n",
            "Requirement already satisfied: uritemplate<4dev,>=3.0.0 in /usr/local/lib/python3.7/dist-packages (from google-api-python-client==1.8.0->cloud-tpu-client) (3.0.1)\n",
            "Requirement already satisfied: setuptools>=40.3.0 in /usr/local/lib/python3.7/dist-packages (from google-api-core<2dev,>=1.13.0->google-api-python-client==1.8.0->cloud-tpu-client) (57.4.0)\n",
            "Requirement already satisfied: protobuf>=3.12.0 in /usr/local/lib/python3.7/dist-packages (from google-api-core<2dev,>=1.13.0->google-api-python-client==1.8.0->cloud-tpu-client) (3.17.3)\n",
            "Requirement already satisfied: packaging>=14.3 in /usr/local/lib/python3.7/dist-packages (from google-api-core<2dev,>=1.13.0->google-api-python-client==1.8.0->cloud-tpu-client) (21.0)\n",
            "Requirement already satisfied: requests<3.0.0dev,>=2.18.0 in /usr/local/lib/python3.7/dist-packages (from google-api-core<2dev,>=1.13.0->google-api-python-client==1.8.0->cloud-tpu-client) (2.23.0)\n",
            "Requirement already satisfied: pytz in /usr/local/lib/python3.7/dist-packages (from google-api-core<2dev,>=1.13.0->google-api-python-client==1.8.0->cloud-tpu-client) (2018.9)\n",
            "Requirement already satisfied: googleapis-common-protos<2.0dev,>=1.6.0 in /usr/local/lib/python3.7/dist-packages (from google-api-core<2dev,>=1.13.0->google-api-python-client==1.8.0->cloud-tpu-client) (1.53.0)\n",
            "Requirement already satisfied: pyasn1-modules>=0.2.1 in /usr/local/lib/python3.7/dist-packages (from google-auth>=1.4.1->google-api-python-client==1.8.0->cloud-tpu-client) (0.2.8)\n",
            "Requirement already satisfied: rsa<5,>=3.1.4 in /usr/local/lib/python3.7/dist-packages (from google-auth>=1.4.1->google-api-python-client==1.8.0->cloud-tpu-client) (4.7.2)\n",
            "Requirement already satisfied: cachetools<5.0,>=2.0.0 in /usr/local/lib/python3.7/dist-packages (from google-auth>=1.4.1->google-api-python-client==1.8.0->cloud-tpu-client) (4.2.2)\n",
            "Requirement already satisfied: pyparsing>=2.0.2 in /usr/local/lib/python3.7/dist-packages (from packaging>=14.3->google-api-core<2dev,>=1.13.0->google-api-python-client==1.8.0->cloud-tpu-client) (2.4.7)\n",
            "Requirement already satisfied: pyasn1<0.5.0,>=0.4.6 in /usr/local/lib/python3.7/dist-packages (from pyasn1-modules>=0.2.1->google-auth>=1.4.1->google-api-python-client==1.8.0->cloud-tpu-client) (0.4.8)\n",
            "Requirement already satisfied: certifi>=2017.4.17 in /usr/local/lib/python3.7/dist-packages (from requests<3.0.0dev,>=2.18.0->google-api-core<2dev,>=1.13.0->google-api-python-client==1.8.0->cloud-tpu-client) (2021.5.30)\n",
            "Requirement already satisfied: urllib3!=1.25.0,!=1.25.1,<1.26,>=1.21.1 in /usr/local/lib/python3.7/dist-packages (from requests<3.0.0dev,>=2.18.0->google-api-core<2dev,>=1.13.0->google-api-python-client==1.8.0->cloud-tpu-client) (1.24.3)\n",
            "Requirement already satisfied: idna<3,>=2.5 in /usr/local/lib/python3.7/dist-packages (from requests<3.0.0dev,>=2.18.0->google-api-core<2dev,>=1.13.0->google-api-python-client==1.8.0->cloud-tpu-client) (2.10)\n",
            "Requirement already satisfied: chardet<4,>=3.0.2 in /usr/local/lib/python3.7/dist-packages (from requests<3.0.0dev,>=2.18.0->google-api-core<2dev,>=1.13.0->google-api-python-client==1.8.0->cloud-tpu-client) (3.0.4)\n",
            "Uninstalling torch-1.9.0+cu102:\n",
            "Installing collected packages: google-api-python-client, cloud-tpu-client\n",
            "  Attempting uninstall: google-api-python-client\n",
            "    Found existing installation: google-api-python-client 1.12.8\n",
            "    Uninstalling google-api-python-client-1.12.8:\n",
            "      Successfully uninstalled google-api-python-client-1.12.8\n",
            "\u001b[33mWARNING: Ignoring invalid distribution -orch (/usr/local/lib/python3.7/dist-packages)\u001b[0m\n",
            "\u001b[33mWARNING: Ignoring invalid distribution -orch (/usr/local/lib/python3.7/dist-packages)\u001b[0m\n",
            "\u001b[31mERROR: pip's dependency resolver does not currently take into account all the packages that are installed. This behaviour is the source of the following dependency conflicts.\n",
            "earthengine-api 0.1.278 requires google-api-python-client<2,>=1.12.1, but you have google-api-python-client 1.8.0 which is incompatible.\u001b[0m\n",
            "Successfully installed cloud-tpu-client-0.10 google-api-python-client-1.8.0\n",
            "  Successfully uninstalled torch-1.9.0+cu102\n",
            "Found existing installation: torchvision 0.10.0+cu102\n",
            "Uninstalling torchvision-0.10.0+cu102:\n",
            "  Successfully uninstalled torchvision-0.10.0+cu102\n",
            "Copying gs://tpu-pytorch/wheels/torch-nightly+20210304-cp37-cp37m-linux_x86_64.whl...\n",
            "- [1 files][126.5 MiB/126.5 MiB]                                                \n",
            "Operation completed over 1 objects/126.5 MiB.                                    \n",
            "Done updating TPU runtime\n",
            "Copying gs://tpu-pytorch/wheels/torch_xla-nightly+20210304-cp37-cp37m-linux_x86_64.whl...\n",
            "\\ [1 files][138.1 MiB/138.1 MiB]                                                \n",
            "Operation completed over 1 objects/138.1 MiB.                                    \n",
            "Copying gs://tpu-pytorch/wheels/torchvision-nightly+20210304-cp37-cp37m-linux_x86_64.whl...\n",
            "/ [1 files][  4.6 MiB/  4.6 MiB]                                                \n",
            "Operation completed over 1 objects/4.6 MiB.                                      \n",
            "Processing ./torch-nightly+20210304-cp37-cp37m-linux_x86_64.whl\n",
            "Requirement already satisfied: typing-extensions in /usr/local/lib/python3.7/dist-packages (from torch==nightly+20210304) (3.7.4.3)\n",
            "Installing collected packages: torch\n",
            "\u001b[31mERROR: pip's dependency resolver does not currently take into account all the packages that are installed. This behaviour is the source of the following dependency conflicts.\n",
            "fastai 1.0.61 requires torchvision, which is not installed.\n",
            "torchtext 0.10.0 requires torch==1.9.0, but you have torch 1.9.0a0+gitc4c77e2 which is incompatible.\u001b[0m\n",
            "Successfully installed torch-1.9.0a0+gitc4c77e2\n",
            "Processing ./torch_xla-nightly+20210304-cp37-cp37m-linux_x86_64.whl\n",
            "Installing collected packages: torch-xla\n",
            "Successfully installed torch-xla-1.9+e6237f2\n",
            "Processing ./torchvision-nightly+20210304-cp37-cp37m-linux_x86_64.whl\n",
            "Requirement already satisfied: numpy in /usr/local/lib/python3.7/dist-packages (from torchvision==nightly+20210304) (1.19.5)\n",
            "Requirement already satisfied: torch in /usr/local/lib/python3.7/dist-packages (from torchvision==nightly+20210304) (1.9.0a0+gitc4c77e2)\n",
            "Requirement already satisfied: pillow>=4.1.1 in /usr/local/lib/python3.7/dist-packages (from torchvision==nightly+20210304) (7.1.2)\n",
            "Requirement already satisfied: typing-extensions in /usr/local/lib/python3.7/dist-packages (from torch->torchvision==nightly+20210304) (3.7.4.3)\n",
            "Installing collected packages: torchvision\n",
            "Successfully installed torchvision-0.9.0a0+7d41547\n",
            "Reading package lists... Done\n",
            "Building dependency tree       \n",
            "Reading state information... Done\n",
            "The following NEW packages will be installed:\n",
            "  libomp5\n",
            "0 upgraded, 1 newly installed, 0 to remove and 40 not upgraded.\n",
            "Need to get 234 kB of archives.\n",
            "After this operation, 774 kB of additional disk space will be used.\n",
            "Get:1 http://archive.ubuntu.com/ubuntu bionic/universe amd64 libomp5 amd64 5.0.1-1 [234 kB]\n",
            "Fetched 234 kB in 1s (290 kB/s)\n",
            "Selecting previously unselected package libomp5:amd64.\n",
            "(Reading database ... 148492 files and directories currently installed.)\n",
            "Preparing to unpack .../libomp5_5.0.1-1_amd64.deb ...\n",
            "Unpacking libomp5:amd64 (5.0.1-1) ...\n",
            "Setting up libomp5:amd64 (5.0.1-1) ...\n",
            "Processing triggers for libc-bin (2.27-3ubuntu1.2) ...\n",
            "/sbin/ldconfig.real: /usr/local/lib/python3.7/dist-packages/ideep4py/lib/libmkldnn.so.0 is not a symbolic link\n",
            "\n"
          ]
        }
      ]
    },
    {
      "cell_type": "code",
      "metadata": {
        "colab": {
          "base_uri": "https://localhost:8080/"
        },
        "id": "27ND-qg2tJEU",
        "outputId": "a63329e8-de20-4d20-d5d6-d375d438fa7c"
      },
      "source": [
        "# https://pypi.org/project/pytorch-ignite/0.5.0.dev20210719/\n",
        "!pip install --pre pytorch-ignite\n",
        "#!pip install pytorch-ignite==0.5.0.dev20210719\n",
        "#!pip install pytorch-gradcam"
      ],
      "execution_count": 2,
      "outputs": [
        {
          "output_type": "stream",
          "name": "stdout",
          "text": [
            "Collecting pytorch-ignite\n",
            "  Downloading pytorch_ignite-0.5.0.dev20210913-py3-none-any.whl (233 kB)\n",
            "\u001b[?25l\r\u001b[K     |█▍                              | 10 kB 22.3 MB/s eta 0:00:01\r\u001b[K     |██▉                             | 20 kB 27.9 MB/s eta 0:00:01\r\u001b[K     |████▏                           | 30 kB 23.7 MB/s eta 0:00:01\r\u001b[K     |█████▋                          | 40 kB 17.6 MB/s eta 0:00:01\r\u001b[K     |███████                         | 51 kB 5.6 MB/s eta 0:00:01\r\u001b[K     |████████▍                       | 61 kB 6.1 MB/s eta 0:00:01\r\u001b[K     |█████████▉                      | 71 kB 5.4 MB/s eta 0:00:01\r\u001b[K     |███████████▎                    | 81 kB 6.1 MB/s eta 0:00:01\r\u001b[K     |████████████▋                   | 92 kB 6.0 MB/s eta 0:00:01\r\u001b[K     |██████████████                  | 102 kB 5.3 MB/s eta 0:00:01\r\u001b[K     |███████████████▌                | 112 kB 5.3 MB/s eta 0:00:01\r\u001b[K     |████████████████▉               | 122 kB 5.3 MB/s eta 0:00:01\r\u001b[K     |██████████████████▎             | 133 kB 5.3 MB/s eta 0:00:01\r\u001b[K     |███████████████████▊            | 143 kB 5.3 MB/s eta 0:00:01\r\u001b[K     |█████████████████████           | 153 kB 5.3 MB/s eta 0:00:01\r\u001b[K     |██████████████████████▌         | 163 kB 5.3 MB/s eta 0:00:01\r\u001b[K     |████████████████████████        | 174 kB 5.3 MB/s eta 0:00:01\r\u001b[K     |█████████████████████████▎      | 184 kB 5.3 MB/s eta 0:00:01\r\u001b[K     |██████████████████████████▊     | 194 kB 5.3 MB/s eta 0:00:01\r\u001b[K     |████████████████████████████▏   | 204 kB 5.3 MB/s eta 0:00:01\r\u001b[K     |█████████████████████████████▌  | 215 kB 5.3 MB/s eta 0:00:01\r\u001b[K     |███████████████████████████████ | 225 kB 5.3 MB/s eta 0:00:01\r\u001b[K     |████████████████████████████████| 233 kB 5.3 MB/s \n",
            "\u001b[?25hRequirement already satisfied: torch<2,>=1.3 in /usr/local/lib/python3.7/dist-packages (from pytorch-ignite) (1.9.0a0+gitc4c77e2)\n",
            "Requirement already satisfied: typing-extensions in /usr/local/lib/python3.7/dist-packages (from torch<2,>=1.3->pytorch-ignite) (3.7.4.3)\n",
            "Installing collected packages: pytorch-ignite\n",
            "Successfully installed pytorch-ignite-0.5.0.dev20210913\n"
          ]
        }
      ]
    },
    {
      "cell_type": "code",
      "metadata": {
        "id": "bYoQTy8JtJBU"
      },
      "source": [
        "import numpy as np\n",
        "import matplotlib.pyplot as plt\n",
        "#from tqdm import tqdm\n",
        "import seaborn as sns\n",
        "\n",
        "import torch\n",
        "import torch.nn as nn\n",
        "import torch.backends.cudnn as cudnn\n",
        "import torch.optim as optim\n",
        "\n",
        "import torchvision\n",
        "import torchvision.transforms as transforms\n",
        "from torchvision import datasets, models\n",
        "\n",
        "import torchsummary\n",
        "\n",
        "#from gradcam import GradCAM\n",
        "#from gradcam.utils import visualize_cam\n",
        "\n",
        "import ignite\n",
        "import ignite.distributed as idist\n",
        "from ignite.contrib.engines import common\n",
        "from ignite.contrib.handlers import PiecewiseLinear\n",
        "from ignite.engine import Engine, Events, create_supervised_evaluator, create_supervised_trainer\n",
        "from ignite.metrics import Accuracy, Loss, RunningAverage, ConfusionMatrix\n",
        "from ignite.handlers import ModelCheckpoint, EarlyStopping\n",
        "from ignite.utils import manual_seed, setup_logger"
      ],
      "execution_count": 3,
      "outputs": []
    },
    {
      "cell_type": "code",
      "metadata": {
        "id": "gVO3jjAR-QDG"
      },
      "source": [
        "#!pip list"
      ],
      "execution_count": 4,
      "outputs": []
    },
    {
      "cell_type": "code",
      "metadata": {
        "id": "3RCx7TaT-TQA"
      },
      "source": [
        "def log_basic_info(logger, config):\n",
        "    logger.info(f\"Train {config['model']} on CIFAR10\")\n",
        "    logger.info(f\"- PyTorch version: {torch.__version__}\")\n",
        "    logger.info(f\"- Ignite version: {ignite.__version__}\")\n",
        "    \n",
        "    if gpu_gtg:\n",
        "        # explicitly import cudnn as\n",
        "        # torch.backends.cudnn can not be pickled with hvd spawning procs\n",
        "        from torch.backends import cudnn\n",
        "\n",
        "        logger.info(f\"- GPU Device: {torch.cuda.get_device_name(idist.get_local_rank())}\")\n",
        "        logger.info(f\"- CUDA version: {torch.version.cuda}\")\n",
        "        logger.info(f\"- CUDNN version: {cudnn.version()}\")\n",
        "\n",
        "    logger.info(\"\\n\")\n",
        "    logger.info(\"Configuration:\")\n",
        "    for key, value in config.items():\n",
        "        logger.info(f\"\\t{key}: {value}\")\n",
        "    logger.info(\"\\n\")\n",
        "\n",
        "    if idist.get_world_size() > 1:\n",
        "        logger.info(\"\\nDistributed setting:\")\n",
        "        logger.info(f\"\\tbackend: {idist.backend()}\")\n",
        "        logger.info(f\"\\tworld size: {idist.get_world_size()}\")\n",
        "        logger.info(\"\\n\")"
      ],
      "execution_count": 5,
      "outputs": []
    },
    {
      "cell_type": "code",
      "metadata": {
        "id": "va-GVsDLyijz"
      },
      "source": [
        "classes_list = ['plane', 'car', 'bird', 'cat', 'deer', 'dog', 'frog', 'horse', 'ship', 'truck']\n",
        "\n",
        "def training(local_rank, config, queue, **kwargs):\n",
        "    print(\"local rank: \", local_rank)\n",
        "\n",
        "    rank = idist.get_rank()\n",
        "    print(\"----------> \", rank, ': run with config:', config, '- backend=', idist.backend())\n",
        "\n",
        "    # For reproducibility\n",
        "    # https://github.com/pytorch/pytorch/issues/2517\n",
        "    torch.manual_seed(config[\"seed\"] + rank)\n",
        "    np.random.seed(config[\"seed\"] + rank) # torchvision.transform 사용 시 잊지 말 것\n",
        "    if gpu_gtg:\n",
        "        torch.cuda.manual_seed(config[\"seed\"] + rank)\n",
        "        torch.cuda.manual_seed_all(config[\"seed\"] + rank)\n",
        "        torch.backends.cudnn.deterministic = True\n",
        "        torch.backends.cudnn.benchmark = False  \n",
        "\n",
        "\n",
        "    #logger = setup_logger(name=\"hkim\", distributed_rank=local_rank)\n",
        "    #log_basic_info(logger, config)\n",
        "\n",
        "   ###########################################################\n",
        "   # 데이터 준비\n",
        "    train_transform = transforms.Compose(\n",
        "    [\n",
        "        transforms.Pad(4),\n",
        "        transforms.RandomCrop(32, fill=128),\n",
        "        transforms.RandomHorizontalFlip(),\n",
        "        transforms.ToTensor(),\n",
        "        transforms.Normalize((0.485, 0.456, 0.406), (0.229, 0.224, 0.225)),\n",
        "    ]\n",
        "    )\n",
        "\n",
        "    test_transform = transforms.Compose([transforms.ToTensor(), transforms.Normalize((0.485, 0.456, 0.406), (0.229, 0.224, 0.225)),])\n",
        "\n",
        "    if idist.get_local_rank() > 0:\n",
        "        if config[\"verbose_loader\"]:\n",
        "            print(f\"{idist.get_local_rank()} - rank non-zero barrier check\") \n",
        "        idist.barrier()\n",
        "\n",
        "    trainset = torchvision.datasets.CIFAR10(root=config[\"data_path\"], train=True, download=True, transform=train_transform)\n",
        "    testset = torchvision.datasets.CIFAR10(root=config[\"data_path\"], train=False, download=True, transform=test_transform)\n",
        "\n",
        "    # 배치 하나만\n",
        "    #trainset.data = trainset.data[0:512]\n",
        "\n",
        "    if config[\"verbose_loader\"]:\n",
        "        print(f\"{idist.get_local_rank()} - dataset ready\")\n",
        "\n",
        "    if idist.get_local_rank() == 0:\n",
        "        if config[\"verbose_loader\"]:\n",
        "            print(f\"{idist.get_local_rank()} - rank zero barrier check\")\n",
        "        idist.barrier()\n",
        "\n",
        "    trainloader = idist.auto_dataloader(trainset, batch_size=config[\"batch_size\"], shuffle=True, num_workers=config[\"num_workers\"], drop_last=True)\n",
        "    testloader = idist.auto_dataloader(testset, batch_size=config[\"batch_size\"], shuffle=False, num_workers=config[\"num_workers\"],)\n",
        "\n",
        "    if config[\"verbose_loader\"]:\n",
        "        print(f\"{idist.get_local_rank()} - dataloader ready\")\n",
        "\n",
        "    if config[\"verbose_loader\"]:\n",
        "        batch = next(iter(testloader))\n",
        "        print(f\"{idist.get_local_rank()} - \\n {batch[1]}\")      \n",
        "\n",
        "\n",
        "\n",
        "\n",
        "    ###########################################################\n",
        "    # 모델, 옵티마이저, 로스, 트레이너, 이밸류에이터\n",
        "\n",
        "    num_classes = 10\n",
        "    model = models.resnet18(num_classes = num_classes)\n",
        "    \n",
        "    #num_classes = 10\n",
        "    #num_ftrs = model.fc.in_features\n",
        "    #model.fc = nn.Linear(num_ftrs, num_classes)\n",
        "    \n",
        "    model = idist.auto_model(model)\n",
        "\n",
        "    #print(model)\n",
        "\n",
        "\n",
        "\n",
        "    #from torchsummary import summary\n",
        "    #summary(model, input_size=(3,32,32), device=idist.device().type)\n",
        "\n",
        "\n",
        "\n",
        "    optimizer = optim.Adam(model.parameters(), lr=0.001)\n",
        "    #optimizer = idist.auto_optim(optimizer)\n",
        "\n",
        "\n",
        "    # criterion = nn.NLLLoss().to(idist.device())\n",
        "    criterion = nn.CrossEntropyLoss().to(idist.device())\n",
        "\n",
        "\n",
        "    print(\"before trainer: \", idist.device())\n",
        "    trainer = create_supervised_trainer(model, optimizer, criterion, device=idist.device())\n",
        "    trainer.logger = setup_logger(\"hkim-trainer\")\n",
        "\n",
        "    metrics = {\n",
        "        'accuracy':Accuracy(),\n",
        "        'ce':Loss(criterion),\n",
        "        'cm':ConfusionMatrix(num_classes=num_classes)\n",
        "    }\n",
        "\n",
        "    train_evaluator = create_supervised_evaluator(model, metrics=metrics, device=idist.device())\n",
        "    train_evaluator.logger = setup_logger(\"hkim-train_evaluator\")\n",
        "    val_evaluator = create_supervised_evaluator(model, metrics=metrics, device=idist.device())\n",
        "    val_evaluator.logger = setup_logger(\"hkim-val_evaluator\")\n",
        "\n",
        "    training_history = {'accuracy':[],'loss':[]}\n",
        "    validation_history = {'accuracy':[],'loss':[]}\n",
        "    last_epoch = []\n",
        "\n",
        "    # track a running average of the scalar loss output for each batch.\n",
        "    RunningAverage(output_transform=lambda x: x).attach(trainer, 'loss')\n",
        "\n",
        "\n",
        "    \n",
        "\n",
        "    ###########################################################\n",
        "    # 조기 종료 - val set에서 loss 값이 10 epoch 이상 줄어들지 않으면....\n",
        "    def score_function(engine):\n",
        "        val_loss = engine.state.metrics['ce']\n",
        "        return -val_loss\n",
        "\n",
        "    def early_stop():\n",
        "        handler = EarlyStopping(patience=10, score_function=score_function, trainer=trainer)\n",
        "    \n",
        "    val_evaluator.add_event_handler(Events.COMPLETED, early_stop)   \n",
        "\n",
        "\n",
        "    ###########################################################\n",
        "    # 체크포인트....\n",
        "    #checkpointer = ModelCheckpoint('./saved_models', 'cifar10', n_saved=2, create_dir=True, save_as_state_dict=True, require_empty=False)\n",
        "    checkpointer = ModelCheckpoint('./saved_models', 'cifar10', n_saved=2, create_dir=True, require_empty=False)\n",
        "    trainer.add_event_handler(Events.EPOCH_COMPLETED, checkpointer, {'cifar10': model})\n",
        "\n",
        "\n",
        "\n",
        "    ###########################################################\n",
        "    # 그 외 이벤트\n",
        "    @trainer.on(Events.EPOCH_COMPLETED)\n",
        "    def log_training_results(trainer):\n",
        "        train_evaluator.run(trainloader)\n",
        "        metrics = train_evaluator.state.metrics\n",
        "        accuracy = metrics['accuracy']*100\n",
        "        loss = metrics['ce']\n",
        "        last_epoch.append(0)\n",
        "        training_history['accuracy'].append(accuracy)\n",
        "        training_history['loss'].append(loss)\n",
        "        print(\"Training Results - Epoch: {}  Avg accuracy: {:.2f} Avg loss: {:.2f}\"\n",
        "            .format(trainer.state.epoch, accuracy, loss))\n",
        "\n",
        "    @trainer.on(Events.EPOCH_COMPLETED)\n",
        "    def log_validation_results(trainer):\n",
        "        val_evaluator.run(testloader)\n",
        "        metrics = val_evaluator.state.metrics\n",
        "        accuracy = metrics['accuracy']*100\n",
        "        loss = metrics['ce']\n",
        "        validation_history['accuracy'].append(accuracy)\n",
        "        validation_history['loss'].append(loss)\n",
        "        print(\"Validation Results - Epoch: {}  Avg accuracy: {:.2f} Avg loss: {:.2f}\"\n",
        "            .format(trainer.state.epoch, accuracy, loss))\n",
        "\n",
        "    # confusion matrix\n",
        "    @trainer.on(Events.COMPLETED)\n",
        "    def log_confusion_matrix(trainer):\n",
        "        val_evaluator.run(testloader)\n",
        "        metrics = val_evaluator.state.metrics\n",
        "        cm = metrics['cm']\n",
        "        print(cm)\n",
        "        return\n",
        "        cm = cm.numpy()\n",
        "        cm = cm.astype(int)\n",
        "        classes = classes_list\n",
        "        fig, ax = plt.subplots(figsize=(10,10))  \n",
        "        ax= plt.subplot()\n",
        "        sns.heatmap(cm, annot=True, ax = ax,fmt=\"d\")\n",
        "        # labels, title and ticks\n",
        "        ax.set_xlabel('Predicted labels')\n",
        "        ax.set_ylabel('True labels') \n",
        "        ax.set_title('Confusion Matrix') \n",
        "        ax.xaxis.set_ticklabels(classes,rotation=90)\n",
        "        ax.yaxis.set_ticklabels(classes,rotation=0)\n",
        "\n",
        "\n",
        "\n",
        "    print(f\"{idist.get_local_rank()} - trainer\")     \n",
        "\n",
        "\n",
        "\n",
        "    print(f\"{idist.get_local_rank()} - trainer.run begins\")     \n",
        "    trainer.run(trainloader, max_epochs=config[\"num_epochs\"])\n",
        "    print(f\"{idist.get_local_rank()} - trainer.run ends\") \n",
        "    \n",
        "    if idist.get_local_rank() == 0:\n",
        "        print(f\"queue begins\")     \n",
        "        metrics = val_evaluator.state.metrics\n",
        "        # 큐에 텐서를 넣을 수 없다!!! \n",
        "        import copy\n",
        "        tmp = copy.deepcopy(metrics['cm'].numpy())\n",
        "        queue.put(tmp)\n",
        "        queue.put(training_history)\n",
        "        queue.put(validation_history)\n",
        "        queue.put(last_epoch)\n",
        "\n",
        "        print(queue.qsize()) "
      ],
      "execution_count": 6,
      "outputs": []
    },
    {
      "cell_type": "code",
      "metadata": {
        "colab": {
          "base_uri": "https://localhost:8080/",
          "height": 1000,
          "referenced_widgets": [
            "1bcd274ec8204cb8b7712e5e9626b7cb",
            "da59f12ff3eb4e3c84242f973062d18d",
            "c76e55ebe4fa43a8add1893d89671d3a",
            "0cd61aa4b6584cdd84eefa692f3ef57a",
            "399561d3d2a44527ad3ef81587c9386f",
            "fb936d25e605408081eca9528e1a6f8e",
            "5a6c7aea5b6e493fabe585b7e3c5b77e",
            "a8d82e161a9e41e79e3dd753b2e67092",
            "9bc3b1cb9e374e69949d936c0475efb3",
            "cb6512b9c2d84193b0f8d5e315257f70",
            "98f040b4eb9447b6898c2b018f217b27"
          ]
        },
        "id": "FXJzm8yqtI-k",
        "outputId": "25e3d0dc-c8d1-4662-e7fc-2aa25d1ac3f2"
      },
      "source": [
        "config = {\n",
        "    \"seed\": 543,\n",
        "    \"data_path\" : \"./cifar10\",\n",
        "    \"output_path\" : \"./output-cifar10/\",\n",
        "    \"model\" : \"resnet18\",\n",
        "    \"batch_size\" : 512,\n",
        "    \"momentum\" : 0.9,\n",
        "    \"weight_decay\" : 1e-4,\n",
        "    \"num_workers\" : 2,\n",
        "    \"num_epochs\" : 5,\n",
        "    \"learning_rate\" : 0.4,\n",
        "    \"num_warmup_epochs\" : 4,\n",
        "    \"validate_every\" : 3, \n",
        "    \"checkpoint_every\" : 1000,\n",
        "    \"backend\" : None, \n",
        "    \"resume_from\" : None, \n",
        "    \"log_every_iters\" : 15,\n",
        "    \"nproc_per_node\" : None, \n",
        "    \"stop_iteration\" : None, \n",
        "    \"with_amp\" : False,\n",
        "    \"log_interval\" : 10,\n",
        "    \"verbose_set\" : False,\n",
        "    \"verbose_set2\" : False,\n",
        "    \"verbose_loader\" : False\n",
        "\n",
        "}\n",
        "\n",
        "if not (tpu_gtg or gpu_gtg): # cpu\n",
        "    config[\"backend\"] = 'gloo'\n",
        "    config[\"nproc_per_node\"] = 8\n",
        "elif gpu_gtg: # gpu\n",
        "    config[\"backend\"] = 'nccl'\n",
        "    config[\"nproc_per_node\"] = 1\n",
        "elif tpu_gtg: # tpu\n",
        "    config[\"backend\"] = 'xla-tpu'\n",
        "    config[\"nproc_per_node\"] = 8\n",
        "else: # error\n",
        "    raise RuntimeError(\"Unknown environment: tpu_gtg {}, gpu_gtg {}\".format(tpu_gtg, gpu_gtg))\n",
        "\n",
        "if config[\"backend\"] == \"xla-tpu\" and config[\"with_amp\"]:\n",
        "    raise RuntimeError(\"The value of with_amp should be False if backend is xla\")\n",
        "\n",
        "\n",
        "dist_configs = {'nproc_per_node': config[\"nproc_per_node\"], \"start_method\": \"fork\"}  # or dist_configs = {...}\n",
        "\n",
        "from multiprocessing import Queue\n",
        "queue = Queue()\n",
        "#queue = []\n",
        "\n",
        "with idist.Parallel(backend=config[\"backend\"], **dist_configs) as parallel:\n",
        "    parallel.run(training, config, queue, a=1, b=1)\n",
        "\n",
        "    print(queue.qsize())\n",
        "    cm = queue.get()\n",
        "    training_history = queue.get()\n",
        "    validation_history = queue.get()\n",
        "    last_epoch = queue.get()\n",
        "\n",
        "\n",
        "#print(training_histroy)\n",
        "#print(validation_histroy)\n",
        "#print(last_epoch)"
      ],
      "execution_count": 7,
      "outputs": [
        {
          "output_type": "stream",
          "name": "stderr",
          "text": [
            "2021-09-13 11:45:55,455 ignite.distributed.launcher.Parallel INFO: Initialized distributed launcher with backend: 'xla-tpu'\n",
            "2021-09-13 11:45:55,457 ignite.distributed.launcher.Parallel INFO: - Parameters to spawn processes: \n",
            "\tnproc_per_node: 8\n",
            "\tnnodes: 1\n",
            "\tnode_rank: 0\n",
            "\tstart_method: fork\n",
            "2021-09-13 11:45:55,458 ignite.distributed.launcher.Parallel INFO: Spawn function '<function training at 0x7fe8e220c200>' in 8 processes\n"
          ]
        },
        {
          "output_type": "stream",
          "name": "stdout",
          "text": [
            "local rank:  2\n",
            "local rank:  1\n",
            "local rank:  7\n",
            "local rank:  0\n",
            "---------->  1 : run with config: {'seed': 543, 'data_path': './cifar10', 'output_path': './output-cifar10/', 'model': 'resnet18', 'batch_size': 512, 'momentum': 0.9, 'weight_decay': 0.0001, 'num_workers': 2, 'num_epochs': 5, 'learning_rate': 0.4, 'num_warmup_epochs': 4, 'validate_every': 3, 'checkpoint_every': 1000, 'backend': 'xla-tpu', 'resume_from': None, 'log_every_iters': 15, 'nproc_per_node': 8, 'stop_iteration': None, 'with_amp': False, 'log_interval': 10, 'verbose_set': False, 'verbose_set2': False, 'verbose_loader': False} - backend= xla-tpu\n",
            "---------->  7 : run with config: {'seed': 543, 'data_path': './cifar10', 'output_path': './output-cifar10/', 'model': 'resnet18', 'batch_size': 512, 'momentum': 0.9, 'weight_decay': 0.0001, 'num_workers': 2, 'num_epochs': 5, 'learning_rate': 0.4, 'num_warmup_epochs': 4, 'validate_every': 3, 'checkpoint_every': 1000, 'backend': 'xla-tpu', 'resume_from': None, 'log_every_iters': 15, 'nproc_per_node': 8, 'stop_iteration': None, 'with_amp': False, 'log_interval': 10, 'verbose_set': False, 'verbose_set2': False, 'verbose_loader': False} - backend= xla-tpu\n",
            "local rank:  3\n",
            "local rank:  6\n",
            "local rank:  5\n",
            "local rank:  4\n",
            "---------->  0 : run with config: {'seed': 543, 'data_path': './cifar10', 'output_path': './output-cifar10/', 'model': 'resnet18', 'batch_size': 512, 'momentum': 0.9, 'weight_decay': 0.0001, 'num_workers': 2, 'num_epochs': 5, 'learning_rate': 0.4, 'num_warmup_epochs': 4, 'validate_every': 3, 'checkpoint_every': 1000, 'backend': 'xla-tpu', 'resume_from': None, 'log_every_iters': 15, 'nproc_per_node': 8, 'stop_iteration': None, 'with_amp': False, 'log_interval': 10, 'verbose_set': False, 'verbose_set2': False, 'verbose_loader': False} - backend= xla-tpu\n",
            "---------->  2 : run with config: {'seed': 543, 'data_path': './cifar10', 'output_path': './output-cifar10/', 'model': 'resnet18', 'batch_size': 512, 'momentum': 0.9, 'weight_decay': 0.0001, 'num_workers': 2, 'num_epochs': 5, 'learning_rate': 0.4, 'num_warmup_epochs': 4, 'validate_every': 3, 'checkpoint_every': 1000, 'backend': 'xla-tpu', 'resume_from': None, 'log_every_iters': 15, 'nproc_per_node': 8, 'stop_iteration': None, 'with_amp': False, 'log_interval': 10, 'verbose_set': False, 'verbose_set2': False, 'verbose_loader': False} - backend= xla-tpu\n",
            "---------->  6 : run with config: {'seed': 543, 'data_path': './cifar10', 'output_path': './output-cifar10/', 'model': 'resnet18', 'batch_size': 512, 'momentum': 0.9, 'weight_decay': 0.0001, 'num_workers': 2, 'num_epochs': 5, 'learning_rate': 0.4, 'num_warmup_epochs': 4, 'validate_every': 3, 'checkpoint_every': 1000, 'backend': 'xla-tpu', 'resume_from': None, 'log_every_iters': 15, 'nproc_per_node': 8, 'stop_iteration': None, 'with_amp': False, 'log_interval': 10, 'verbose_set': False, 'verbose_set2': False, 'verbose_loader': False} - backend= xla-tpu\n",
            "---------->  3 : run with config: {'seed': 543, 'data_path': './cifar10', 'output_path': './output-cifar10/', 'model': 'resnet18', 'batch_size': 512, 'momentum': 0.9, 'weight_decay': 0.0001, 'num_workers': 2, 'num_epochs': 5, 'learning_rate': 0.4, 'num_warmup_epochs': 4, 'validate_every': 3, 'checkpoint_every': 1000, 'backend': 'xla-tpu', 'resume_from': None, 'log_every_iters': 15, 'nproc_per_node': 8, 'stop_iteration': None, 'with_amp': False, 'log_interval': 10, 'verbose_set': False, 'verbose_set2': False, 'verbose_loader': False} - backend= xla-tpu\n",
            "---------->  5 : run with config: {'seed': 543, 'data_path': './cifar10', 'output_path': './output-cifar10/', 'model': 'resnet18', 'batch_size': 512, 'momentum': 0.9, 'weight_decay': 0.0001, 'num_workers': 2, 'num_epochs': 5, 'learning_rate': 0.4, 'num_warmup_epochs': 4, 'validate_every': 3, 'checkpoint_every': 1000, 'backend': 'xla-tpu', 'resume_from': None, 'log_every_iters': 15, 'nproc_per_node': 8, 'stop_iteration': None, 'with_amp': False, 'log_interval': 10, 'verbose_set': False, 'verbose_set2': False, 'verbose_loader': False} - backend= xla-tpu\n",
            "---------->  4 : run with config: {'seed': 543, 'data_path': './cifar10', 'output_path': './output-cifar10/', 'model': 'resnet18', 'batch_size': 512, 'momentum': 0.9, 'weight_decay': 0.0001, 'num_workers': 2, 'num_epochs': 5, 'learning_rate': 0.4, 'num_warmup_epochs': 4, 'validate_every': 3, 'checkpoint_every': 1000, 'backend': 'xla-tpu', 'resume_from': None, 'log_every_iters': 15, 'nproc_per_node': 8, 'stop_iteration': None, 'with_amp': False, 'log_interval': 10, 'verbose_set': False, 'verbose_set2': False, 'verbose_loader': False} - backend= xla-tpu\n",
            "Downloading https://www.cs.toronto.edu/~kriz/cifar-10-python.tar.gz to ./cifar10/cifar-10-python.tar.gz\n"
          ]
        },
        {
          "output_type": "display_data",
          "data": {
            "application/vnd.jupyter.widget-view+json": {
              "model_id": "1bcd274ec8204cb8b7712e5e9626b7cb",
              "version_minor": 0,
              "version_major": 2
            },
            "text/plain": [
              "  0%|          | 0/170498071 [00:00<?, ?it/s]"
            ]
          },
          "metadata": {}
        },
        {
          "output_type": "stream",
          "name": "stdout",
          "text": [
            "Extracting ./cifar10/cifar-10-python.tar.gz to ./cifar10\n",
            "Files already downloaded and verified\n"
          ]
        },
        {
          "output_type": "stream",
          "name": "stderr",
          "text": [
            "2021-09-13 11:47:24,458 ignite.distributed.auto.auto_dataloader INFO: Use data loader kwargs for dataset 'Dataset CIFAR10': \n",
            "\t{'batch_size': 64, 'num_workers': 2, 'drop_last': True, 'sampler': <torch.utils.data.distributed.DistributedSampler object at 0x7fe8a53a9f50>, 'pin_memory': False}\n",
            "2021-09-13 11:47:24,499 ignite.distributed.auto.auto_dataloader INFO: DataLoader is wrapped by `MpDeviceLoader` on XLA\n",
            "2021-09-13 11:47:24,526 ignite.distributed.auto.auto_dataloader INFO: Use data loader kwargs for dataset 'Dataset CIFAR10': \n",
            "\t{'batch_size': 64, 'num_workers': 2, 'sampler': <torch.utils.data.distributed.DistributedSampler object at 0x7fe8a53a95d0>, 'pin_memory': False}\n",
            "2021-09-13 11:47:24,547 ignite.distributed.auto.auto_dataloader INFO: DataLoader is wrapped by `MpDeviceLoader` on XLA\n"
          ]
        },
        {
          "output_type": "stream",
          "name": "stdout",
          "text": [
            "Files already downloaded and verified\n",
            "Files already downloaded and verified\n",
            "Files already downloaded and verified\n",
            "Files already downloaded and verified\n",
            "Files already downloaded and verified\n",
            "Files already downloaded and verified\n",
            "before trainer:  xla:1\n",
            "0 - trainer\n",
            "Files already downloaded and verified\n",
            "0 - trainer.run begins\n"
          ]
        },
        {
          "output_type": "stream",
          "name": "stderr",
          "text": [
            "2021-09-13 11:47:26,632 hkim-trainer INFO: Engine run starting with max_epochs=5.\n"
          ]
        },
        {
          "output_type": "stream",
          "name": "stdout",
          "text": [
            "Files already downloaded and verified\n",
            "Files already downloaded and verified\n",
            "Files already downloaded and verified\n",
            "Files already downloaded and verified\n",
            "Files already downloaded and verified\n",
            "Files already downloaded and verified\n",
            "Files already downloaded and verified\n",
            "before trainer:  xla:0\n",
            "4 - trainer\n",
            "4 - trainer.run begins\n",
            "before trainer:  xla:0\n",
            "1 - trainer\n",
            "1 - trainer.run begins\n",
            "before trainer:  xla:0\n",
            "before trainer:  xla:0\n",
            "7 - trainer\n",
            "7 - trainer.run begins\n",
            "before trainer:  xla:0\n",
            "5 - trainer\n",
            "3 - trainer\n",
            "3 - trainer.run begins\n",
            "5 - trainer.run begins\n",
            "before trainer:  xla:0\n",
            "2 - trainer\n",
            "2 - trainer.run begins\n",
            "before trainer:  xla:0\n",
            "6 - trainer\n",
            "6 - trainer.run begins\n"
          ]
        },
        {
          "output_type": "stream",
          "name": "stderr",
          "text": [
            "2021-09-13 11:48:19,778 hkim-train_evaluator INFO: Engine run starting with max_epochs=1.\n",
            "2021-09-13 11:48:45,569 hkim-train_evaluator INFO: Epoch[1] Complete. Time taken: 00:00:26\n"
          ]
        },
        {
          "output_type": "stream",
          "name": "stdout",
          "text": [
            "Training Results - Epoch: 1  Avg accuracy: 33.22 Avg loss: 1.86\n",
            "Training Results - Epoch: 1  Avg accuracy: 33.22 Avg loss: 1.86\n",
            "Training Results - Epoch: 1  Avg accuracy: 33.22 Avg loss: 1.86\n",
            "Training Results - Epoch: 1  Avg accuracy: 33.22 Avg loss: 1.86\n",
            "Training Results - Epoch: 1  Avg accuracy: 33.22 Avg loss: 1.86\n",
            "Training Results - Epoch: 1  Avg accuracy: 33.22 Avg loss: 1.86\n"
          ]
        },
        {
          "output_type": "stream",
          "name": "stderr",
          "text": [
            "2021-09-13 11:48:45,585 hkim-train_evaluator INFO: Engine run complete. Time taken: 00:00:26\n"
          ]
        },
        {
          "output_type": "stream",
          "name": "stdout",
          "text": [
            "Training Results - Epoch: 1  Avg accuracy: 33.22 Avg loss: 1.86\n",
            "Training Results - Epoch: 1  Avg accuracy: 33.22 Avg loss: 1.86\n"
          ]
        },
        {
          "output_type": "stream",
          "name": "stderr",
          "text": [
            "2021-09-13 11:48:45,619 hkim-val_evaluator INFO: Engine run starting with max_epochs=1.\n",
            "2021-09-13 11:48:51,894 hkim-val_evaluator INFO: Epoch[1] Complete. Time taken: 00:00:06\n"
          ]
        },
        {
          "output_type": "stream",
          "name": "stdout",
          "text": [
            "Validation Results - Epoch: 1  Avg accuracy: 34.54 Avg loss: 1.83\n",
            "Validation Results - Epoch: 1  Avg accuracy: 34.54 Avg loss: 1.83\n",
            "Validation Results - Epoch: 1  Avg accuracy: 34.54 Avg loss: 1.83\n",
            "Validation Results - Epoch: 1  Avg accuracy: 34.54 Avg loss: 1.83\n",
            "Validation Results - Epoch: 1  Avg accuracy: 34.54 Avg loss: 1.83\n",
            "Validation Results - Epoch: 1  Avg accuracy: 34.54 Avg loss: 1.83\n"
          ]
        },
        {
          "output_type": "stream",
          "name": "stderr",
          "text": [
            "2021-09-13 11:48:51,922 hkim-val_evaluator INFO: Engine run complete. Time taken: 00:00:06\n"
          ]
        },
        {
          "output_type": "stream",
          "name": "stdout",
          "text": [
            "Validation Results - Epoch: 1  Avg accuracy: 34.54 Avg loss: 1.83\n",
            "Validation Results - Epoch: 1  Avg accuracy: 34.54 Avg loss: 1.83\n"
          ]
        },
        {
          "output_type": "stream",
          "name": "stderr",
          "text": [
            "2021-09-13 11:48:51,948 hkim-trainer INFO: Epoch[1] Complete. Time taken: 00:01:25\n",
            "2021-09-13 11:49:24,896 hkim-train_evaluator INFO: Engine run starting with max_epochs=1.\n"
          ]
        },
        {
          "output_type": "stream",
          "name": "stdout",
          "text": [
            "Training Results - Epoch: 2  Avg accuracy: 39.15 Avg loss: 1.66\n",
            "Training Results - Epoch: 2  Avg accuracy: 39.15 Avg loss: 1.66\n",
            "Training Results - Epoch: 2  Avg accuracy: 39.15 Avg loss: 1.66\n",
            "Training Results - Epoch: 2  Avg accuracy: 39.15 Avg loss: 1.66\n",
            "Training Results - Epoch: 2  Avg accuracy: 39.15 Avg loss: 1.66\n",
            "Training Results - Epoch: 2  Avg accuracy: 39.15 Avg loss: 1.66\n",
            "Training Results - Epoch: 2  Avg accuracy: 39.15 Avg loss: 1.66\n"
          ]
        },
        {
          "output_type": "stream",
          "name": "stderr",
          "text": [
            "2021-09-13 11:49:49,232 hkim-train_evaluator INFO: Epoch[1] Complete. Time taken: 00:00:24\n",
            "2021-09-13 11:49:49,265 hkim-train_evaluator INFO: Engine run complete. Time taken: 00:00:24\n"
          ]
        },
        {
          "output_type": "stream",
          "name": "stdout",
          "text": [
            "Training Results - Epoch: 2  Avg accuracy: 39.15 Avg loss: 1.66\n"
          ]
        },
        {
          "output_type": "stream",
          "name": "stderr",
          "text": [
            "2021-09-13 11:49:49,302 hkim-val_evaluator INFO: Engine run starting with max_epochs=1.\n"
          ]
        },
        {
          "output_type": "stream",
          "name": "stdout",
          "text": [
            "Validation Results - Epoch: 2  Avg accuracy: 39.99 Avg loss: 1.65\n"
          ]
        },
        {
          "output_type": "stream",
          "name": "stderr",
          "text": [
            "2021-09-13 11:49:53,650 hkim-val_evaluator INFO: Epoch[1] Complete. Time taken: 00:00:04\n"
          ]
        },
        {
          "output_type": "stream",
          "name": "stdout",
          "text": [
            "Validation Results - Epoch: 2  Avg accuracy: 39.99 Avg loss: 1.65\n",
            "Validation Results - Epoch: 2  Avg accuracy: 39.99 Avg loss: 1.65\n",
            "Validation Results - Epoch: 2  Avg accuracy: 39.99 Avg loss: 1.65\n",
            "Validation Results - Epoch: 2  Avg accuracy: 39.99 Avg loss: 1.65\n",
            "Validation Results - Epoch: 2  Avg accuracy: 39.99 Avg loss: 1.65\n",
            "Validation Results - Epoch: 2  Avg accuracy: 39.99 Avg loss: 1.65\n"
          ]
        },
        {
          "output_type": "stream",
          "name": "stderr",
          "text": [
            "2021-09-13 11:49:53,659 hkim-val_evaluator INFO: Engine run complete. Time taken: 00:00:04\n"
          ]
        },
        {
          "output_type": "stream",
          "name": "stdout",
          "text": [
            "Validation Results - Epoch: 2  Avg accuracy: 39.99 Avg loss: 1.65\n"
          ]
        },
        {
          "output_type": "stream",
          "name": "stderr",
          "text": [
            "2021-09-13 11:49:53,721 hkim-trainer INFO: Epoch[2] Complete. Time taken: 00:01:02\n",
            "2021-09-13 11:50:25,582 hkim-train_evaluator INFO: Engine run starting with max_epochs=1.\n"
          ]
        },
        {
          "output_type": "stream",
          "name": "stdout",
          "text": [
            "Training Results - Epoch: 3  Avg accuracy: 43.07 Avg loss: 1.54\n",
            "Training Results - Epoch: 3  Avg accuracy: 43.07 Avg loss: 1.54\n",
            "Training Results - Epoch: 3  Avg accuracy: 43.07 Avg loss: 1.54\n",
            "Training Results - Epoch: 3  Avg accuracy: 43.07 Avg loss: 1.54\n"
          ]
        },
        {
          "output_type": "stream",
          "name": "stderr",
          "text": [
            "2021-09-13 11:50:49,570 hkim-train_evaluator INFO: Epoch[1] Complete. Time taken: 00:00:24\n"
          ]
        },
        {
          "output_type": "stream",
          "name": "stdout",
          "text": [
            "Training Results - Epoch: 3  Avg accuracy: 43.07 Avg loss: 1.54\n",
            "Training Results - Epoch: 3  Avg accuracy: 43.07 Avg loss: 1.54\n",
            "Training Results - Epoch: 3  Avg accuracy: 43.07 Avg loss: 1.54\n"
          ]
        },
        {
          "output_type": "stream",
          "name": "stderr",
          "text": [
            "2021-09-13 11:50:49,590 hkim-train_evaluator INFO: Engine run complete. Time taken: 00:00:24\n"
          ]
        },
        {
          "output_type": "stream",
          "name": "stdout",
          "text": [
            "Training Results - Epoch: 3  Avg accuracy: 43.07 Avg loss: 1.54\n"
          ]
        },
        {
          "output_type": "stream",
          "name": "stderr",
          "text": [
            "2021-09-13 11:50:49,617 hkim-val_evaluator INFO: Engine run starting with max_epochs=1.\n"
          ]
        },
        {
          "output_type": "stream",
          "name": "stdout",
          "text": [
            "Validation Results - Epoch: 3  Avg accuracy: 42.87 Avg loss: 1.54\n"
          ]
        },
        {
          "output_type": "stream",
          "name": "stderr",
          "text": [
            "2021-09-13 11:50:53,891 hkim-val_evaluator INFO: Epoch[1] Complete. Time taken: 00:00:04\n"
          ]
        },
        {
          "output_type": "stream",
          "name": "stdout",
          "text": [
            "Validation Results - Epoch: 3  Avg accuracy: 42.87 Avg loss: 1.54\n",
            "Validation Results - Epoch: 3  Avg accuracy: 42.87 Avg loss: 1.54\n",
            "Validation Results - Epoch: 3  Avg accuracy: 42.87 Avg loss: 1.54\n",
            "Validation Results - Epoch: 3  Avg accuracy: 42.87 Avg loss: 1.54\n"
          ]
        },
        {
          "output_type": "stream",
          "name": "stderr",
          "text": [
            "2021-09-13 11:50:53,904 hkim-val_evaluator INFO: Engine run complete. Time taken: 00:00:04\n"
          ]
        },
        {
          "output_type": "stream",
          "name": "stdout",
          "text": [
            "Validation Results - Epoch: 3  Avg accuracy: 42.87 Avg loss: 1.54\n",
            "Validation Results - Epoch: 3  Avg accuracy: 42.87 Avg loss: 1.54\n",
            "Validation Results - Epoch: 3  Avg accuracy: 42.87 Avg loss: 1.54\n"
          ]
        },
        {
          "output_type": "stream",
          "name": "stderr",
          "text": [
            "2021-09-13 11:50:53,925 hkim-trainer INFO: Epoch[3] Complete. Time taken: 00:01:00\n",
            "2021-09-13 11:51:25,320 hkim-train_evaluator INFO: Engine run starting with max_epochs=1.\n"
          ]
        },
        {
          "output_type": "stream",
          "name": "stdout",
          "text": [
            "Training Results - Epoch: 4  Avg accuracy: 46.03 Avg loss: 1.48\n",
            "Training Results - Epoch: 4  Avg accuracy: 46.03 Avg loss: 1.48\n",
            "Training Results - Epoch: 4  Avg accuracy: 46.03 Avg loss: 1.48\n"
          ]
        },
        {
          "output_type": "stream",
          "name": "stderr",
          "text": [
            "2021-09-13 11:51:49,154 hkim-train_evaluator INFO: Epoch[1] Complete. Time taken: 00:00:24\n"
          ]
        },
        {
          "output_type": "stream",
          "name": "stdout",
          "text": [
            "Training Results - Epoch: 4  Avg accuracy: 46.03 Avg loss: 1.48\n",
            "Training Results - Epoch: 4  Avg accuracy: 46.03 Avg loss: 1.48\n",
            "Training Results - Epoch: 4  Avg accuracy: 46.03 Avg loss: 1.48\n",
            "Training Results - Epoch: 4  Avg accuracy: 46.03 Avg loss: 1.48\n"
          ]
        },
        {
          "output_type": "stream",
          "name": "stderr",
          "text": [
            "2021-09-13 11:51:49,167 hkim-train_evaluator INFO: Engine run complete. Time taken: 00:00:24\n"
          ]
        },
        {
          "output_type": "stream",
          "name": "stdout",
          "text": [
            "Training Results - Epoch: 4  Avg accuracy: 46.03 Avg loss: 1.48\n"
          ]
        },
        {
          "output_type": "stream",
          "name": "stderr",
          "text": [
            "2021-09-13 11:51:49,198 hkim-val_evaluator INFO: Engine run starting with max_epochs=1.\n"
          ]
        },
        {
          "output_type": "stream",
          "name": "stdout",
          "text": [
            "Validation Results - Epoch: 4  Avg accuracy: 45.99 Avg loss: 1.49\n"
          ]
        },
        {
          "output_type": "stream",
          "name": "stderr",
          "text": [
            "2021-09-13 11:51:53,424 hkim-val_evaluator INFO: Epoch[1] Complete. Time taken: 00:00:04\n"
          ]
        },
        {
          "output_type": "stream",
          "name": "stdout",
          "text": [
            "Validation Results - Epoch: 4  Avg accuracy: 45.99 Avg loss: 1.49\n",
            "Validation Results - Epoch: 4  Avg accuracy: 45.99 Avg loss: 1.49\n",
            "Validation Results - Epoch: 4  Avg accuracy: 45.99 Avg loss: 1.49\n",
            "Validation Results - Epoch: 4  Avg accuracy: 45.99 Avg loss: 1.49\n",
            "Validation Results - Epoch: 4  Avg accuracy: 45.99 Avg loss: 1.49\n",
            "Validation Results - Epoch: 4  Avg accuracy: 45.99 Avg loss: 1.49\n"
          ]
        },
        {
          "output_type": "stream",
          "name": "stderr",
          "text": [
            "2021-09-13 11:51:53,432 hkim-val_evaluator INFO: Engine run complete. Time taken: 00:00:04\n"
          ]
        },
        {
          "output_type": "stream",
          "name": "stdout",
          "text": [
            "Validation Results - Epoch: 4  Avg accuracy: 45.99 Avg loss: 1.49\n"
          ]
        },
        {
          "output_type": "stream",
          "name": "stderr",
          "text": [
            "2021-09-13 11:51:53,486 hkim-trainer INFO: Epoch[4] Complete. Time taken: 00:00:60\n",
            "2021-09-13 11:52:24,822 hkim-train_evaluator INFO: Engine run starting with max_epochs=1.\n",
            "2021-09-13 11:52:48,715 hkim-train_evaluator INFO: Epoch[1] Complete. Time taken: 00:00:24\n"
          ]
        },
        {
          "output_type": "stream",
          "name": "stdout",
          "text": [
            "Training Results - Epoch: 5  Avg accuracy: 48.40 Avg loss: 1.41\n",
            "Training Results - Epoch: 5  Avg accuracy: 48.40 Avg loss: 1.41\n",
            "Training Results - Epoch: 5  Avg accuracy: 48.40 Avg loss: 1.41\n",
            "Training Results - Epoch: 5  Avg accuracy: 48.40 Avg loss: 1.41\n",
            "Training Results - Epoch: 5  Avg accuracy: 48.40 Avg loss: 1.41\n",
            "Training Results - Epoch: 5  Avg accuracy: 48.40 Avg loss: 1.41\n",
            "Training Results - Epoch: 5  Avg accuracy: 48.40 Avg loss: 1.41\n"
          ]
        },
        {
          "output_type": "stream",
          "name": "stderr",
          "text": [
            "2021-09-13 11:52:48,720 hkim-train_evaluator INFO: Engine run complete. Time taken: 00:00:24\n"
          ]
        },
        {
          "output_type": "stream",
          "name": "stdout",
          "text": [
            "Training Results - Epoch: 5  Avg accuracy: 48.40 Avg loss: 1.41\n"
          ]
        },
        {
          "output_type": "stream",
          "name": "stderr",
          "text": [
            "2021-09-13 11:52:48,757 hkim-val_evaluator INFO: Engine run starting with max_epochs=1.\n"
          ]
        },
        {
          "output_type": "stream",
          "name": "stdout",
          "text": [
            "Validation Results - Epoch: 5  Avg accuracy: 46.39 Avg loss: 1.46\n",
            "Validation Results - Epoch: 5  Avg accuracy: 46.39 Avg loss: 1.46\n"
          ]
        },
        {
          "output_type": "stream",
          "name": "stderr",
          "text": [
            "2021-09-13 11:52:53,004 hkim-val_evaluator INFO: Epoch[1] Complete. Time taken: 00:00:04\n"
          ]
        },
        {
          "output_type": "stream",
          "name": "stdout",
          "text": [
            "Validation Results - Epoch: 5  Avg accuracy: 46.39 Avg loss: 1.46\n",
            "Validation Results - Epoch: 5  Avg accuracy: 46.39 Avg loss: 1.46\n",
            "Validation Results - Epoch: 5  Avg accuracy: 46.39 Avg loss: 1.46\n",
            "Validation Results - Epoch: 5  Avg accuracy: 46.39 Avg loss: 1.46\n",
            "Validation Results - Epoch: 5  Avg accuracy: 46.39 Avg loss: 1.46\n"
          ]
        },
        {
          "output_type": "stream",
          "name": "stderr",
          "text": [
            "2021-09-13 11:52:53,024 hkim-val_evaluator INFO: Engine run complete. Time taken: 00:00:04\n"
          ]
        },
        {
          "output_type": "stream",
          "name": "stdout",
          "text": [
            "Validation Results - Epoch: 5  Avg accuracy: 46.39 Avg loss: 1.46\n"
          ]
        },
        {
          "output_type": "stream",
          "name": "stderr",
          "text": [
            "2021-09-13 11:52:53,054 hkim-trainer INFO: Epoch[5] Complete. Time taken: 00:00:60\n",
            "2021-09-13 11:52:53,065 hkim-val_evaluator INFO: Engine run starting with max_epochs=1.\n"
          ]
        },
        {
          "output_type": "stream",
          "name": "stdout",
          "text": [
            "tensor([[619,  60,  64,  17,  21,  25,  17,  13, 122,  42],\n",
            "        [ 92, 636,  16,  17,   6,  27,  10,  14,  52, 130],\n",
            "        [128,  28, 299,  52, 182, 154,  64,  47,  28,  18],\n",
            "        [ 59,  35,  90, 222,  69, 351,  73,  46,  16,  39],\n",
            "        [ 62,  16, 162,  49, 387, 112,  90,  93,  17,  12],\n",
            "        [ 34,  12,  88, 133,  66, 531,  29,  77,  15,  15],\n",
            "        [ 17,  33,  96,  83, 107,  95, 521,  22,   6,  20],\n",
            "        [ 41,  30,  34,  48,  81, 168,  16, 525,   8,  49],\n",
            "        [275,  90,  24,  20,   7,  18,   6,  11, 493,  56],\n",
            "        [ 87, 297,  20,  21,   9,  24,  19,  34,  83, 406]])tensor([[619,  60,  64,  17,  21,  25,  17,  13, 122,  42],\n",
            "        [ 92, 636,  16,  17,   6,  27,  10,  14,  52, 130],\n",
            "        [128,  28, 299,  52, 182, 154,  64,  47,  28,  18],\n",
            "        [ 59,  35,  90, 222,  69, 351,  73,  46,  16,  39],\n",
            "        [ 62,  16, 162,  49, 387, 112,  90,  93,  17,  12],\n",
            "        [ 34,  12,  88, 133,  66, 531,  29,  77,  15,  15],\n",
            "        [ 17,  33,  96,  83, 107,  95, 521,  22,   6,  20],\n",
            "        [ 41,  30,  34,  48,  81, 168,  16, 525,   8,  49],\n",
            "        [275,  90,  24,  20,   7,  18,   6,  11, 493,  56],\n",
            "        [ 87, 297,  20,  21,   9,  24,  19,  34,  83, 406]])tensor([[619,  60,  64,  17,  21,  25,  17,  13, 122,  42],\n",
            "        [ 92, 636,  16,  17,   6,  27,  10,  14,  52, 130],\n",
            "        [128,  28, 299,  52, 182, 154,  64,  47,  28,  18],\n",
            "        [ 59,  35,  90, 222,  69, 351,  73,  46,  16,  39],\n",
            "        [ 62,  16, 162,  49, 387, 112,  90,  93,  17,  12],\n",
            "        [ 34,  12,  88, 133,  66, 531,  29,  77,  15,  15],\n",
            "        [ 17,  33,  96,  83, 107,  95, 521,  22,   6,  20],\n",
            "        [ 41,  30,  34,  48,  81, 168,  16, 525,   8,  49],\n",
            "        [275,  90,  24,  20,   7,  18,   6,  11, 493,  56],\n",
            "        [ 87, 297,  20,  21,   9,  24,  19,  34,  83, 406]])tensor([[619,  60,  64,  17,  21,  25,  17,  13, 122,  42],\n",
            "        [ 92, 636,  16,  17,   6,  27,  10,  14,  52, 130],\n",
            "        [128,  28, 299,  52, 182, 154,  64,  47,  28,  18],\n",
            "        [ 59,  35,  90, 222,  69, 351,  73,  46,  16,  39],\n",
            "        [ 62,  16, 162,  49, 387, 112,  90,  93,  17,  12],\n",
            "        [ 34,  12,  88, 133,  66, 531,  29,  77,  15,  15],\n",
            "        [ 17,  33,  96,  83, 107,  95, 521,  22,   6,  20],\n",
            "        [ 41,  30,  34,  48,  81, 168,  16, 525,   8,  49],\n",
            "        [275,  90,  24,  20,   7,  18,   6,  11, 493,  56],\n",
            "        [ 87, 297,  20,  21,   9,  24,  19,  34,  83, 406]])\n",
            "\n",
            "tensor([[619,  60,  64,  17,  21,  25,  17,  13, 122,  42],\n",
            "        [ 92, 636,  16,  17,   6,  27,  10,  14,  52, 130],\n",
            "        [128,  28, 299,  52, 182, 154,  64,  47,  28,  18],\n",
            "        [ 59,  35,  90, 222,  69, 351,  73,  46,  16,  39],\n",
            "        [ 62,  16, 162,  49, 387, 112,  90,  93,  17,  12],\n",
            "        [ 34,  12,  88, 133,  66, 531,  29,  77,  15,  15],\n",
            "        [ 17,  33,  96,  83, 107,  95, 521,  22,   6,  20],\n",
            "        [ 41,  30,  34,  48,  81, 168,  16, 525,   8,  49],\n",
            "        [275,  90,  24,  20,   7,  18,   6,  11, 493,  56],\n",
            "        [ 87, 297,  20,  21,   9,  24,  19,  34,  83, 406]])"
          ]
        },
        {
          "output_type": "stream",
          "name": "stderr",
          "text": [
            "2021-09-13 11:52:57,244 hkim-val_evaluator INFO: Epoch[1] Complete. Time taken: 00:00:04\n"
          ]
        },
        {
          "output_type": "stream",
          "name": "stdout",
          "text": [
            "\n",
            "6 - trainer.run ends\n",
            "1 - trainer.run ends\n",
            "7 - trainer.run ends\n",
            "\n",
            "tensor([[619,  60,  64,  17,  21,  25,  17,  13, 122,  42],\n",
            "        [ 92, 636,  16,  17,   6,  27,  10,  14,  52, 130],\n",
            "        [128,  28, 299,  52, 182, 154,  64,  47,  28,  18],\n",
            "        [ 59,  35,  90, 222,  69, 351,  73,  46,  16,  39],\n",
            "        [ 62,  16, 162,  49, 387, 112,  90,  93,  17,  12],\n",
            "        [ 34,  12,  88, 133,  66, 531,  29,  77,  15,  15],\n",
            "        [ 17,  33,  96,  83, 107,  95, 521,  22,   6,  20],\n",
            "        [ 41,  30,  34,  48,  81, 168,  16, 525,   8,  49],\n",
            "        [275,  90,  24,  20,   7,  18,   6,  11, 493,  56],\n",
            "        [ 87, 297,  20,  21,   9,  24,  19,  34,  83, 406]])\n",
            "tensor([[619,  60,  64,  17,  21,  25,  17,  13, 122,  42],\n",
            "        [ 92, 636,  16,  17,   6,  27,  10,  14,  52, 130],\n",
            "        [128,  28, 299,  52, 182, 154,  64,  47,  28,  18],\n",
            "        [ 59,  35,  90, 222,  69, 351,  73,  46,  16,  39],\n",
            "        [ 62,  16, 162,  49, 387, 112,  90,  93,  17,  12],\n",
            "        [ 34,  12,  88, 133,  66, 531,  29,  77,  15,  15],\n",
            "        [ 17,  33,  96,  83, 107,  95, 521,  22,   6,  20],\n",
            "        [ 41,  30,  34,  48,  81, 168,  16, 525,   8,  49],\n",
            "        [275,  90,  24,  20,   7,  18,   6,  11, 493,  56],\n",
            "        [ 87, 297,  20,  21,   9,  24,  19,  34,  83, 406]])"
          ]
        },
        {
          "output_type": "stream",
          "name": "stderr",
          "text": [
            "2021-09-13 11:52:57,267 hkim-val_evaluator INFO: Engine run complete. Time taken: 00:00:04\n"
          ]
        },
        {
          "output_type": "stream",
          "name": "stdout",
          "text": [
            "5 - trainer.run ends\n",
            "\n",
            "tensor([[619,  60,  64,  17,  21,  25,  17,  13, 122,  42],\n",
            "        [ 92, 636,  16,  17,   6,  27,  10,  14,  52, 130],\n",
            "        [128,  28, 299,  52, 182, 154,  64,  47,  28,  18],\n",
            "        [ 59,  35,  90, 222,  69, 351,  73,  46,  16,  39],\n",
            "        [ 62,  16, 162,  49, 387, 112,  90,  93,  17,  12],\n",
            "        [ 34,  12,  88, 133,  66, 531,  29,  77,  15,  15],\n",
            "        [ 17,  33,  96,  83, 107,  95, 521,  22,   6,  20],\n",
            "        [ 41,  30,  34,  48,  81, 168,  16, 525,   8,  49],\n",
            "        [275,  90,  24,  20,   7,  18,   6,  11, 493,  56],\n",
            "        [ 87, 297,  20,  21,   9,  24,  19,  34,  83, 406]])3 - trainer.run ends\n",
            "\n",
            "\n",
            "4 - trainer.run ends\n"
          ]
        },
        {
          "output_type": "stream",
          "name": "stderr",
          "text": [
            "2021-09-13 11:52:57,342 hkim-trainer INFO: Engine run complete. Time taken: 00:05:31\n"
          ]
        },
        {
          "output_type": "stream",
          "name": "stdout",
          "text": [
            "2 - trainer.run ends\n",
            "0 - trainer.run ends\n",
            "queue begins\n",
            "4\n"
          ]
        },
        {
          "output_type": "stream",
          "name": "stderr",
          "text": [
            "2021-09-13 11:52:57,505 ignite.distributed.launcher.Parallel INFO: End of run\n"
          ]
        },
        {
          "output_type": "stream",
          "name": "stdout",
          "text": [
            "4\n"
          ]
        }
      ]
    },
    {
      "cell_type": "code",
      "metadata": {
        "id": "VekuCyNi-nJ_",
        "outputId": "520e436e-2351-443f-e987-e36dccb799ad",
        "colab": {
          "base_uri": "https://localhost:8080/",
          "height": 1000
        }
      },
      "source": [
        "# 1. confusion matrix\n",
        "#print(cm)\n",
        "cm = cm.astype(int)\n",
        "classes = classes_list\n",
        "fig, ax = plt.subplots(figsize=(10,10))  \n",
        "ax= plt.subplot()\n",
        "sns.heatmap(cm, annot=True, ax = ax,fmt=\"d\")\n",
        "# labels, title and ticks\n",
        "ax.set_xlabel('Predicted labels')\n",
        "ax.set_ylabel('True labels') \n",
        "ax.set_title('Confusion Matrix') \n",
        "ax.xaxis.set_ticklabels(classes,rotation=90)\n",
        "ax.yaxis.set_ticklabels(classes,rotation=0)\n",
        "\n",
        "\n",
        "# 2. learning curve\n",
        "plt.plot(training_history['accuracy'],label=\"Training Accuracy\")\n",
        "plt.plot(validation_history['accuracy'],label=\"Validation Accuracy\")\n",
        "plt.xlabel('No. of Epochs')\n",
        "plt.ylabel('Accuracy')\n",
        "plt.legend(frameon=False)\n",
        "plt.show()\n",
        "\n",
        "plt.plot(training_history['loss'],label=\"Training Loss\")\n",
        "plt.plot(validation_history['loss'],label=\"Validation Loss\")\n",
        "plt.xlabel('No. of Epochs')\n",
        "plt.ylabel('Loss')\n",
        "plt.legend(frameon=False)\n",
        "plt.show()\n",
        "\n",
        "print(\"hkim - 777 \")\n",
        "\n",
        "# 3. load the saved model and draw sample prediction results\n",
        "def fetch_last_checkpoint_model_filename(model_save_path):\n",
        "    import os\n",
        "    checkpoint_files = os.listdir(model_save_path)\n",
        "    checkpoint_files = [f for f in checkpoint_files if '.pt' in f]\n",
        "    checkpoint_iter = [\n",
        "        int(x.split('_')[2].split('.')[0])\n",
        "        for x in checkpoint_files]\n",
        "    last_idx = np.array(checkpoint_iter).argmax()\n",
        "    return os.path.join(model_save_path, checkpoint_files[last_idx])\n",
        "\n",
        "model = models.resnet18()\n",
        "num_classes = 10\n",
        "num_ftrs = model.fc.in_features\n",
        "model.fc = nn.Linear(num_ftrs, num_classes)\n",
        "model.load_state_dict(torch.load(fetch_last_checkpoint_model_filename('./saved_models')))\n",
        "print(\"Model Loaded\")    \n",
        "\n",
        "\n",
        "test_transform = transforms.Compose([transforms.ToTensor(), transforms.Normalize((0.485, 0.456, 0.406), (0.229, 0.224, 0.225)),])\n",
        "testset = torchvision.datasets.CIFAR10(root=config[\"data_path\"], train=False, download=True, transform=test_transform)\n",
        "# not autoloader this time...\n",
        "testloader = torch.utils.data.DataLoader(testset, batch_size=config[\"batch_size\"], shuffle=True)\n",
        "\n",
        "images, labels = next(iter(testloader))\n",
        "\n",
        "model.to(idist.device())\n",
        "\n",
        "#from torchsummary import summary\n",
        "#summary(model, input_size=(3,32,32), device=idist.device().type)\n",
        "\n",
        "preds = model(images.to(idist.device()))\n",
        "\n",
        "preds = preds.cpu()\n",
        "print(preds[0])\n",
        "\n",
        "# plotting the results\n",
        "fig = plt.figure(figsize=(25,4))\n",
        "for i in range(10):\n",
        "    best = np.argmax(preds[0].detach().numpy())\n",
        "    ax = fig.add_subplot(2, 20/2, i+1, xticks=[], yticks=[])\n",
        "    ax.imshow(np.transpose(images[i].numpy(), (1, 2, 0)))\n",
        "    ax.set_title(\"{} ({})\".format(classes_list[best], classes_list[labels[i]]),\n",
        "                color=(\"green\" if best==labels[i] else \"red\"))"
      ],
      "execution_count": 8,
      "outputs": [
        {
          "output_type": "display_data",
          "data": {
            "image/png": "[encoded data removed]",
            "text/plain": [
              "<Figure size 720x720 with 2 Axes>"
            ]
          },
          "metadata": {
            "needs_background": "light"
          }
        },
        {
          "output_type": "display_data",
          "data": {
            "image/png": "[encoded data removed]",
            "text/plain": [
              "<Figure size 432x288 with 1 Axes>"
            ]
          },
          "metadata": {
            "needs_background": "light"
          }
        },
        {
          "output_type": "stream",
          "name": "stdout",
          "text": [
            "hkim - 777 \n",
            "Model Loaded\n",
            "Files already downloaded and verified\n"
          ]
        },
        {
          "output_type": "stream",
          "name": "stderr",
          "text": [
            "Clipping input data to the valid range for imshow with RGB data ([0..1] for floats or [0..255] for integers).\n",
            "Clipping input data to the valid range for imshow with RGB data ([0..1] for floats or [0..255] for integers).\n",
            "Clipping input data to the valid range for imshow with RGB data ([0..1] for floats or [0..255] for integers).\n",
            "Clipping input data to the valid range for imshow with RGB data ([0..1] for floats or [0..255] for integers).\n",
            "Clipping input data to the valid range for imshow with RGB data ([0..1] for floats or [0..255] for integers).\n",
            "Clipping input data to the valid range for imshow with RGB data ([0..1] for floats or [0..255] for integers).\n",
            "Clipping input data to the valid range for imshow with RGB data ([0..1] for floats or [0..255] for integers).\n",
            "Clipping input data to the valid range for imshow with RGB data ([0..1] for floats or [0..255] for integers).\n",
            "Clipping input data to the valid range for imshow with RGB data ([0..1] for floats or [0..255] for integers).\n"
          ]
        },
        {
          "output_type": "stream",
          "name": "stdout",
          "text": [
            "tensor([-1.6231, -1.7527,  0.4798,  1.4290,  0.8641,  0.6014,  1.4224,  0.4554,\n",
            "        -2.4728, -0.5440], grad_fn=<SelectBackward>)\n"
          ]
        },
        {
          "output_type": "stream",
          "name": "stderr",
          "text": [
            "Clipping input data to the valid range for imshow with RGB data ([0..1] for floats or [0..255] for integers).\n"
          ]
        },
        {
          "output_type": "display_data",
          "data": {
            "image/png": "[encoded data removed]",
            "text/plain": [
              "<Figure size 1800x288 with 10 Axes>"
            ]
          },
          "metadata": {}
        }
      ]
    },
    {
      "cell_type": "markdown",
      "metadata": {
        "id": "OQL39wXmXx9k"
      },
      "source": [
        "## License\n"
      ]
    },
    {
      "cell_type": "markdown",
      "metadata": {
        "id": "YXio6q3iX5Ig"
      },
      "source": [
        "---\n",
        "\n",
        "\n",
        "Note: This is not an official [LG AI Research](https://www.lgresearch.ai/) product but sample code provided for an educational purpose\n",
        "\n",
        "<br/>\n",
        "author: John H. Kim\n",
        "<br/>  \n",
        "email: john.kim@lgresearch.ai / secutron@naver.com  \n",
        "\n",
        "\n",
        "---"
      ]
    }
  ]
}